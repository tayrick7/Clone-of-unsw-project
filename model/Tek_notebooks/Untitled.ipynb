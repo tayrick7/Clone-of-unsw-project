{
 "cells": [
  {
   "cell_type": "code",
   "execution_count": 2,
   "id": "f1103cb6-7df8-4208-bc1f-003a9dd7d780",
   "metadata": {},
   "outputs": [],
   "source": [
    "import numpy as np \n",
    "import pandas as pd\n",
    "import os\n",
    "from sklearn.ensemble import IsolationForest\n",
    "from sklearn.model_selection import train_test_split\n",
    "from sklearn.metrics import confusion_matrix,ConfusionMatrixDisplay,classification_report,make_scorer, f1_score, accuracy_score\n",
    "from sklearn.utils import resample\n",
    "import matplotlib.pyplot as plt\n",
    "from datetime import datetime\n",
    "from sklearn import model_selection\n",
    "from joblib import dump, load\n",
    "import mlflow.sklearn\n",
    "import mlflow\n",
    "from mlflow.models import infer_signature\n",
    "from mlflow.tracking import MlflowClient\n",
    "\n",
    "import sys\n",
    "sys.path.append('../')\n",
    "from result_display import show_result,export_anomaly\n",
    "from reject_anomalies import pred_baseon_threshold,make_use_reject_anomalies\n",
    "from Feature_engineer import remove_unwanted_col,feature_engineer_steps"
   ]
  },
  {
   "cell_type": "code",
   "execution_count": 3,
   "id": "4a14905c-404d-4c45-b31c-61b05ab1de4a",
   "metadata": {},
   "outputs": [],
   "source": [
    "transactions_df = pd.read_csv(\"data/transactions_df.csv\")\n",
    "terminal_profiles_df = pd.read_csv(\"data/terminal_profiles_table.csv\")\n",
    "customer_profiles_df = pd.read_csv(\"data/customer_profiles_table.csv\")\n",
    "join_terminal = pd.merge(transactions_df, terminal_profiles_df, on='terminal_id', how='inner') #join dataset base on key value\n",
    "join_customer = pd.merge(join_terminal, customer_profiles_df, on='customer_id', how='inner')\n"
   ]
  },
  {
   "cell_type": "code",
   "execution_count": 17,
   "id": "bdfb8b52-c4b7-47a4-8392-9b6b76b27374",
   "metadata": {},
   "outputs": [],
   "source": [
    "# Feature engineer step and one-hot enconding for categorical feature. \n",
    "# Stored in Feature_engineer.py\n",
    "train_X,train_y = feature_engineer_steps(join_customer)\n",
    "#  Feature selection as part of the default pipeline\n",
    "train_X = remove_unwanted_col(train_X)\n",
    "X_train, X_test, y_train, y_test = train_test_split(train_X, train_y,test_size=0.20, random_state=42)"
   ]
  },
  {
   "cell_type": "code",
   "execution_count": 18,
   "id": "c855aa61-fb7a-47a5-9c5e-e4edcb5aed0d",
   "metadata": {},
   "outputs": [],
   "source": [
    "best_model = load('saved_model/best_model.joblib')"
   ]
  },
  {
   "cell_type": "code",
   "execution_count": 19,
   "id": "69c36591-65c7-4c6d-a3a1-cd231c9380eb",
   "metadata": {},
   "outputs": [
    {
     "name": "stderr",
     "output_type": "stream",
     "text": [
      "/Users/sek/anaconda3/lib/python3.11/site-packages/sklearn/base.py:486: UserWarning: X has feature names, but KMeans was fitted without feature names\n",
      "  warnings.warn(\n"
     ]
    }
   ],
   "source": [
    "y_pred = best_model.predict(X_test)\n",
    "y_pred[y_pred == -1] = 0\n",
    "anomalies = X_test[y_pred == 0]\n",
    "anomalies_index = anomalies.index"
   ]
  },
  {
   "cell_type": "code",
   "execution_count": 20,
   "id": "7b4fb012-9368-4b15-9f88-69a7f67fad9e",
   "metadata": {},
   "outputs": [
    {
     "name": "stderr",
     "output_type": "stream",
     "text": [
      "/Users/sek/anaconda3/lib/python3.11/site-packages/sklearn/base.py:486: UserWarning: X has feature names, but KMeans was fitted without feature names\n",
      "  warnings.warn(\n",
      "/Users/sek/anaconda3/lib/python3.11/site-packages/sklearn/base.py:486: UserWarning: X has feature names, but KMeans was fitted without feature names\n",
      "  warnings.warn(\n"
     ]
    }
   ],
   "source": [
    "# train_scores = best_model.decision_function(X_train)\n",
    "# train_threshold = np.percentile(train_scores, 15) #default set 15% of data are anomalies\n",
    "# y_pred = pred_baseon_threshold(best_model, X_test, train_threshold) #using threshold to determine anomalies\n",
    "\n",
    "distances = np.min(best_model.transform(X_train), axis=1)\n",
    "threshold = np.percentile(distances, 85)\n",
    "test_distances = np.min(best_model.transform(X_test), axis=1)\n",
    "y_pred = (test_distances > threshold).astype(int)"
   ]
  },
  {
   "cell_type": "code",
   "execution_count": 25,
   "id": "493afe89-76a9-4798-9793-a579938e0b65",
   "metadata": {},
   "outputs": [
    {
     "data": {
      "image/png": "[encoded data removed]",
      "text/plain": [
       "<Figure size 640x480 with 2 Axes>"
      ]
     },
     "metadata": {},
     "output_type": "display_data"
    }
   ],
   "source": [
    "precision, recall, f1_socre = show_result(y_test,y_pred)\n",
    "# metrics = {\"precision\": precision, \"recall\": recall, \"f1_socre\": f1_socre,\"train_threshold\":train_threshold}\n",
    "params = best_model.get_params()"
   ]
  },
  {
   "cell_type": "code",
   "execution_count": 26,
   "id": "c8744ad3-ee1a-4b44-97b2-053c5d3515bf",
   "metadata": {},
   "outputs": [
    {
     "data": {
      "text/plain": [
       "{'algorithm': 'lloyd',\n",
       " 'copy_x': True,\n",
       " 'init': 'k-means++',\n",
       " 'max_iter': 300,\n",
       " 'n_clusters': 2,\n",
       " 'n_init': 10,\n",
       " 'random_state': 0,\n",
       " 'tol': 0.0001,\n",
       " 'verbose': 0}"
      ]
     },
     "execution_count": 26,
     "metadata": {},
     "output_type": "execute_result"
    }
   ],
   "source": [
    "params"
   ]
  },
  {
   "cell_type": "code",
   "execution_count": null,
   "id": "fa380e80-b257-4f1b-bce8-dfb1a209c734",
   "metadata": {},
   "outputs": [],
   "source": []
  }
 ],
 "metadata": {
  "kernelspec": {
   "display_name": "Python 3 (ipykernel)",
   "language": "python",
   "name": "python3"
  },
  "language_info": {
   "codemirror_mode": {
    "name": "ipython",
    "version": 3
   },
   "file_extension": ".py",
   "mimetype": "text/x-python",
   "name": "python",
   "nbconvert_exporter": "python",
   "pygments_lexer": "ipython3",
   "version": "3.11.5"
  }
 },
 "nbformat": 4,
 "nbformat_minor": 5
}
