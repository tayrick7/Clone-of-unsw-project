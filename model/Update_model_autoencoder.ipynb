{
 "cells": [
  {
   "cell_type": "code",
   "execution_count": 24,
   "id": "3cee9b27-44d4-4d83-831f-54b10fd9d639",
   "metadata": {},
   "outputs": [],
   "source": [
    "import mlflow\n",
    "import glob\n",
    "import pandas as pd\n",
    "import os\n",
    "import numpy as np\n",
    "from mlflow.entities import ViewType\n",
    "from mlflow.tracking import MlflowClient\n",
    "from reject_anomalies import pred_baseon_threshold,make_use_reject_anomalies\n",
    "from Data_preprocessing_method import apply_PCA\n",
    "from Feature_engineer import remove_unwanted_col_autoencoder,feature_engineer_steps\n",
    "from result_display import show_result\n",
    "from AutoEncoder_util import convert_type, transform_data, mad_score\n",
    "import mlflow.tensorflow"
   ]
  },
  {
   "cell_type": "code",
   "execution_count": 25,
   "id": "7d5ea380-6dd5-4774-b192-567da023fef5",
   "metadata": {},
   "outputs": [],
   "source": [
    "def search_newest_model(experiment_name,run_name):\n",
    "    mlflow.set_tracking_uri(\"http://127.0.0.1:8080\")\n",
    "    experiment = mlflow.get_experiment_by_name(experiment_name)\n",
    "    \n",
    "    if experiment:\n",
    "        experiment_id = experiment.experiment_id\n",
    "        \n",
    "    else:\n",
    "        raise ValueError(f\"Experiment named {experiment_name} not found\")\n",
    "\n",
    "\n",
    "\n",
    "    runs = mlflow.search_runs(experiment_ids=[experiment_id])\n",
    "    #print(runs['tags.mlflow.runName'])\n",
    "    filtered_runs = runs[(runs['tags.mlflow.runName'] == run_name) & (runs.status == 'FINISHED') ]\n",
    "\n",
    "    if filtered_runs.empty:\n",
    "        raise ValueError(f\"No runs with name {run_name} found in experiment {experiment_name}\")\n",
    "    return filtered_runs.iloc[0]"
   ]
  },
  {
   "cell_type": "code",
   "execution_count": 26,
   "id": "af57fa7b-f694-49da-a06b-ff16063c94b5",
   "metadata": {},
   "outputs": [],
   "source": [
    "def update_model(model_information,rejected_list_path):\n",
    "    anomalies = pd.read_csv(rejected_list_path)\n",
    "    experiment_ids = model_information['experiment_id']\n",
    "    client = MlflowClient()\n",
    "    runs = client.search_runs(experiment_ids=experiment_ids)\n",
    "    sensitivity = 0.005\n",
    "    if runs:\n",
    "        run_id = model_information['run_id']\n",
    "        current_run = client.get_run(run_id)\n",
    "        artifact_path = model_information['artifact_uri']       \n",
    "        model_uri = f\"{artifact_path}/mlruns\"\n",
    "        model = mlflow.tensorflow.load_model(model_uri)\n",
    "        THRESHOLD = model_information['params.threshold']\n",
    "        print(model)\n",
    "        anomalies = convert_type(anomalies)\n",
    "        anomalies = transform_data(anomalies)\n",
    "        anomalies = apply_PCA(anomalies,7)\n",
    "        model.fit(anomalies, anomalies, epochs=1, batch_size=8)\n",
    "        \n",
    "        with mlflow.start_run(experiment_id=experiment_ids,run_name=model_information['tags.mlflow.runName']) as run:\n",
    "        # Log the parameters used for the model fit\n",
    "            mlflow.log_param(\"batch_size\", \"256\")\n",
    "            mlflow.log_param(\"optimizer\", \"adam\")\n",
    "            mlflow.log_param(\"loss\", \"mse\")\n",
    "            mlflow.log_param(\"EPOCHS\", 100)\n",
    "            mlflow.log_param(\"activation_function\", \"relu\")\n",
    "            mlflow.log_param(\"num_layers\", 9)\n",
    "            mlflow.log_param(\"threshold\", THRESHOLD)\n",
    "            mlflow.log_param(\"PCA_sample\", 7)\n",
    "            mlflow.log_artifact(local_path = \"Feature_engineer.py\")\n",
    "\n",
    "            # Log an instance of the trained model for later use\n",
    "            model_info = mlflow.tensorflow.log_model(model, artifact_path=\"mlruns\", registered_model_name=\"AutoEncoder_PCA\")\n",
    "\n",
    "    else:\n",
    "        print(\"No runs found.\")"
   ]
  },
  {
   "cell_type": "markdown",
   "id": "60fd2ec0-4789-498f-8d92-01f846de27a3",
   "metadata": {},
   "source": [
    "## Demo of effect of retrain on reject anomalies"
   ]
  },
  {
   "cell_type": "code",
   "execution_count": 27,
   "id": "0b81e013-73c5-4f58-9336-3ce9f3f5654b",
   "metadata": {},
   "outputs": [],
   "source": [
    "transactions_df = pd.read_csv(\"data/user_demo_data.csv\")\n",
    "terminal_profiles_df = pd.read_csv(\"data/terminal_profiles_table.csv\")\n",
    "customer_profiles_df = pd.read_csv(\"data/customer_profiles_table.csv\")\n",
    "join_terminal = pd.merge(transactions_df, terminal_profiles_df, on='terminal_id', how='inner') #join dataset base on key value\n",
    "join_customer = pd.merge(join_terminal, customer_profiles_df, on='customer_id', how='inner')\n",
    "test_X,test_y = feature_engineer_steps(join_customer)\n",
    "test_X = remove_unwanted_col_autoencoder(test_X)\n",
    "\n",
    "test_X = convert_type(test_X)\n",
    "test_y = convert_type(test_y)\n",
    "test_X_transformed = transform_data(test_X)\n",
    "test_X_transformed_PCA = apply_PCA(test_X_transformed,7)"
   ]
  },
  {
   "cell_type": "code",
   "execution_count": 28,
   "id": "9f17a588-16ba-42c9-a42b-36a34599f858",
   "metadata": {},
   "outputs": [
    {
     "name": "stdout",
     "output_type": "stream",
     "text": [
      "run_id                                            73ccb26c35cc43d590b3c8523c953bfc\n",
      "experiment_id                                                                    1\n",
      "status                                                                    FINISHED\n",
      "artifact_uri                     /mnt/c/Users/Leonwu/Desktop/Master_course/COMP...\n",
      "start_time                                        2024-04-16 18:32:30.588000+00:00\n",
      "end_time                                          2024-04-16 18:32:34.820000+00:00\n",
      "metrics.precision                                                         0.939439\n",
      "metrics.recall                                                              0.8041\n",
      "metrics.train_threshold                                                        1.4\n",
      "metrics.f1_socre                                                          0.865401\n",
      "params.num_layers                                                                9\n",
      "params.batch_size                                                              256\n",
      "params.optimizer                                                              adam\n",
      "params.EPOCHS                                                                  100\n",
      "params.loss                                                                    mse\n",
      "params.activation_function                                                    relu\n",
      "params.threshold                                                              None\n",
      "params.PCA_sample                                                             None\n",
      "tags.mlflow.source.type                                                      LOCAL\n",
      "tags.mlflow.log-model.history    [{\"run_id\": \"73ccb26c35cc43d590b3c8523c953bfc\"...\n",
      "tags.mlflow.source.name          C:\\Users\\Leonwu\\AppData\\Local\\Programs\\Python\\...\n",
      "tags.mlflow.user                                                            Leonwu\n",
      "tags.mlflow.runName                                                    AutoEncoder\n",
      "Name: 0, dtype: object\n"
     ]
    },
    {
     "ename": "ValueError",
     "evalue": "Exception encountered when calling Sequential.call().\n\n\u001b[1mInput 0 of layer \"dense_18\" is incompatible with the layer: expected axis -1 of input shape to have value 19, but received input with shape (32, 7)\u001b[0m\n\nArguments received by Sequential.call():\n  • inputs=tf.Tensor(shape=(32, 7), dtype=float32)\n  • training=False\n  • mask=None",
     "output_type": "error",
     "traceback": [
      "\u001b[1;31m---------------------------------------------------------------------------\u001b[0m",
      "\u001b[1;31mValueError\u001b[0m                                Traceback (most recent call last)",
      "Cell \u001b[1;32mIn[28], line 6\u001b[0m\n\u001b[0;32m      4\u001b[0m model_uri \u001b[38;5;241m=\u001b[39m \u001b[38;5;124mf\u001b[39m\u001b[38;5;124m\"\u001b[39m\u001b[38;5;132;01m{\u001b[39;00martifact_path\u001b[38;5;132;01m}\u001b[39;00m\u001b[38;5;124m/mlruns\u001b[39m\u001b[38;5;124m\"\u001b[39m\n\u001b[0;32m      5\u001b[0m model \u001b[38;5;241m=\u001b[39m mlflow\u001b[38;5;241m.\u001b[39mtensorflow\u001b[38;5;241m.\u001b[39mload_model(model_uri)\n\u001b[1;32m----> 6\u001b[0m reconstructions \u001b[38;5;241m=\u001b[39m \u001b[43mmodel\u001b[49m\u001b[38;5;241;43m.\u001b[39;49m\u001b[43mpredict\u001b[49m\u001b[43m(\u001b[49m\u001b[43mtest_X_transformed_PCA\u001b[49m\u001b[43m)\u001b[49m\n\u001b[0;32m      7\u001b[0m mse \u001b[38;5;241m=\u001b[39m np\u001b[38;5;241m.\u001b[39mmean(np\u001b[38;5;241m.\u001b[39mpower(test_X_transformed_PCA \u001b[38;5;241m-\u001b[39m reconstructions, \u001b[38;5;241m2\u001b[39m), axis\u001b[38;5;241m=\u001b[39m\u001b[38;5;241m1\u001b[39m)\n\u001b[0;32m      8\u001b[0m THRESHOLD \u001b[38;5;241m=\u001b[39m model_info[\u001b[38;5;124m'\u001b[39m\u001b[38;5;124mparams.threshold\u001b[39m\u001b[38;5;124m'\u001b[39m]\n",
      "File \u001b[1;32m~\\AppData\\Roaming\\Python\\Python311\\site-packages\\keras\\src\\utils\\traceback_utils.py:122\u001b[0m, in \u001b[0;36mfilter_traceback.<locals>.error_handler\u001b[1;34m(*args, **kwargs)\u001b[0m\n\u001b[0;32m    119\u001b[0m     filtered_tb \u001b[38;5;241m=\u001b[39m _process_traceback_frames(e\u001b[38;5;241m.\u001b[39m__traceback__)\n\u001b[0;32m    120\u001b[0m     \u001b[38;5;66;03m# To get the full stack trace, call:\u001b[39;00m\n\u001b[0;32m    121\u001b[0m     \u001b[38;5;66;03m# `keras.config.disable_traceback_filtering()`\u001b[39;00m\n\u001b[1;32m--> 122\u001b[0m     \u001b[38;5;28;01mraise\u001b[39;00m e\u001b[38;5;241m.\u001b[39mwith_traceback(filtered_tb) \u001b[38;5;28;01mfrom\u001b[39;00m \u001b[38;5;28;01mNone\u001b[39;00m\n\u001b[0;32m    123\u001b[0m \u001b[38;5;28;01mfinally\u001b[39;00m:\n\u001b[0;32m    124\u001b[0m     \u001b[38;5;28;01mdel\u001b[39;00m filtered_tb\n",
      "File \u001b[1;32m~\\AppData\\Roaming\\Python\\Python311\\site-packages\\keras\\src\\layers\\input_spec.py:227\u001b[0m, in \u001b[0;36massert_input_compatibility\u001b[1;34m(input_spec, inputs, layer_name)\u001b[0m\n\u001b[0;32m    222\u001b[0m     \u001b[38;5;28;01mfor\u001b[39;00m axis, value \u001b[38;5;129;01min\u001b[39;00m spec\u001b[38;5;241m.\u001b[39maxes\u001b[38;5;241m.\u001b[39mitems():\n\u001b[0;32m    223\u001b[0m         \u001b[38;5;28;01mif\u001b[39;00m value \u001b[38;5;129;01mis\u001b[39;00m \u001b[38;5;129;01mnot\u001b[39;00m \u001b[38;5;28;01mNone\u001b[39;00m \u001b[38;5;129;01mand\u001b[39;00m shape[axis] \u001b[38;5;129;01mnot\u001b[39;00m \u001b[38;5;129;01min\u001b[39;00m {\n\u001b[0;32m    224\u001b[0m             value,\n\u001b[0;32m    225\u001b[0m             \u001b[38;5;28;01mNone\u001b[39;00m,\n\u001b[0;32m    226\u001b[0m         }:\n\u001b[1;32m--> 227\u001b[0m             \u001b[38;5;28;01mraise\u001b[39;00m \u001b[38;5;167;01mValueError\u001b[39;00m(\n\u001b[0;32m    228\u001b[0m                 \u001b[38;5;124mf\u001b[39m\u001b[38;5;124m'\u001b[39m\u001b[38;5;124mInput \u001b[39m\u001b[38;5;132;01m{\u001b[39;00minput_index\u001b[38;5;132;01m}\u001b[39;00m\u001b[38;5;124m of layer \u001b[39m\u001b[38;5;124m\"\u001b[39m\u001b[38;5;132;01m{\u001b[39;00mlayer_name\u001b[38;5;132;01m}\u001b[39;00m\u001b[38;5;124m\"\u001b[39m\u001b[38;5;124m is \u001b[39m\u001b[38;5;124m'\u001b[39m\n\u001b[0;32m    229\u001b[0m                 \u001b[38;5;124mf\u001b[39m\u001b[38;5;124m\"\u001b[39m\u001b[38;5;124mincompatible with the layer: expected axis \u001b[39m\u001b[38;5;132;01m{\u001b[39;00maxis\u001b[38;5;132;01m}\u001b[39;00m\u001b[38;5;124m \u001b[39m\u001b[38;5;124m\"\u001b[39m\n\u001b[0;32m    230\u001b[0m                 \u001b[38;5;124mf\u001b[39m\u001b[38;5;124m\"\u001b[39m\u001b[38;5;124mof input shape to have value \u001b[39m\u001b[38;5;132;01m{\u001b[39;00mvalue\u001b[38;5;132;01m}\u001b[39;00m\u001b[38;5;124m, \u001b[39m\u001b[38;5;124m\"\u001b[39m\n\u001b[0;32m    231\u001b[0m                 \u001b[38;5;124m\"\u001b[39m\u001b[38;5;124mbut received input with \u001b[39m\u001b[38;5;124m\"\u001b[39m\n\u001b[0;32m    232\u001b[0m                 \u001b[38;5;124mf\u001b[39m\u001b[38;5;124m\"\u001b[39m\u001b[38;5;124mshape \u001b[39m\u001b[38;5;132;01m{\u001b[39;00mshape\u001b[38;5;132;01m}\u001b[39;00m\u001b[38;5;124m\"\u001b[39m\n\u001b[0;32m    233\u001b[0m             )\n\u001b[0;32m    234\u001b[0m \u001b[38;5;66;03m# Check shape.\u001b[39;00m\n\u001b[0;32m    235\u001b[0m \u001b[38;5;28;01mif\u001b[39;00m spec\u001b[38;5;241m.\u001b[39mshape \u001b[38;5;129;01mis\u001b[39;00m \u001b[38;5;129;01mnot\u001b[39;00m \u001b[38;5;28;01mNone\u001b[39;00m:\n",
      "\u001b[1;31mValueError\u001b[0m: Exception encountered when calling Sequential.call().\n\n\u001b[1mInput 0 of layer \"dense_18\" is incompatible with the layer: expected axis -1 of input shape to have value 19, but received input with shape (32, 7)\u001b[0m\n\nArguments received by Sequential.call():\n  • inputs=tf.Tensor(shape=(32, 7), dtype=float32)\n  • training=False\n  • mask=None"
     ]
    }
   ],
   "source": [
    "model_info = search_newest_model(\"AutoEncoder_model\",\"AutoEncoder\")\n",
    "print(model_info)\n",
    "artifact_path = model_info['artifact_uri']       \n",
    "model_uri = f\"{artifact_path}/mlruns\"\n",
    "model = mlflow.tensorflow.load_model(model_uri)\n",
    "reconstructions = model.predict(test_X_transformed_PCA)\n",
    "mse = np.mean(np.power(test_X_transformed_PCA - reconstructions, 2), axis=1)\n",
    "THRESHOLD = model_info['params.threshold']\n",
    "z_scores = mad_score(mse)\n",
    "outliers_PCA = z_scores > float(THRESHOLD)\n",
    "print(f\"Detected {np.sum(outliers_PCA):,} outliers in a total of {np.size(z_scores):,} transactions [{np.sum(outliers_PCA)/np.size(z_scores):.2%}].\")\n",
    "precision_PCA, recall_PCA, f1_socre_PCA = show_result(test_y,outliers_PCA,\"result/confusion_matrix_autoencoder_PCA.png\")\n",
    "metrics_PCA = {\"precision\": precision_PCA, \"recall\": recall_PCA, \"f1_socre\": f1_socre_PCA,\"train_threshold\":THRESHOLD}"
   ]
  },
  {
   "cell_type": "code",
   "execution_count": 14,
   "id": "d827d597-af0d-476f-8a00-ce7278b4cecb",
   "metadata": {},
   "outputs": [
    {
     "name": "stdout",
     "output_type": "stream",
     "text": [
      "<Sequential name=sequential_3, built=True>\n",
      "\u001b[1m2/2\u001b[0m \u001b[32m━━━━━━━━━━━━━━━━━━━━\u001b[0m\u001b[37m\u001b[0m \u001b[1m1s\u001b[0m 4ms/step - acc: 0.3864 - loss: 1943364173824.0000\n"
     ]
    },
    {
     "name": "stderr",
     "output_type": "stream",
     "text": [
      "2024/04/17 04:27:48 WARNING mlflow.tensorflow: You are saving a TensorFlow Core model or Keras model without a signature. Inference with mlflow.pyfunc.spark_udf() will not work unless the model's pyfunc representation accepts pandas DataFrames as inference inputs.\n",
      "Registered model 'AutoEncoder_PCA' already exists. Creating a new version of this model...\n",
      "2024/04/17 04:27:52 INFO mlflow.store.model_registry.abstract_store: Waiting up to 300 seconds for model version to finish creation. Model name: AutoEncoder_PCA, version 37\n",
      "Created version '37' of model 'AutoEncoder_PCA'.\n"
     ]
    }
   ],
   "source": [
    "update_model(model_info,\"data/reject_anomalies_sample.csv\")"
   ]
  },
  {
   "cell_type": "code",
   "execution_count": 15,
   "id": "a2fe9ba4-73c2-4fbe-b7d9-4cdd21e67821",
   "metadata": {},
   "outputs": [
    {
     "name": "stdout",
     "output_type": "stream",
     "text": [
      "run_id                                            b332594dfaa94dd582d029a0e3275c2f\n",
      "experiment_id                                                                    1\n",
      "status                                                                    FINISHED\n",
      "artifact_uri                     /mnt/c/Users/Leonwu/Desktop/Master_course/COMP...\n",
      "start_time                                        2024-04-16 18:27:48.287000+00:00\n",
      "end_time                                          2024-04-16 18:27:52.500000+00:00\n",
      "metrics.precision                                                              NaN\n",
      "metrics.recall                                                                 NaN\n",
      "metrics.train_threshold                                                        NaN\n",
      "metrics.f1_socre                                                               NaN\n",
      "params.optimizer                                                              adam\n",
      "params.PCA_sample                                                                7\n",
      "params.loss                                                                    mse\n",
      "params.threshold                                                               1.3\n",
      "params.num_layers                                                                9\n",
      "params.EPOCHS                                                                  100\n",
      "params.batch_size                                                              256\n",
      "params.activation_function                                                    relu\n",
      "tags.mlflow.source.type                                                      LOCAL\n",
      "tags.mlflow.log-model.history    [{\"run_id\": \"b332594dfaa94dd582d029a0e3275c2f\"...\n",
      "tags.mlflow.source.name          C:\\Users\\Leonwu\\AppData\\Local\\Programs\\Python\\...\n",
      "tags.mlflow.user                                                            Leonwu\n",
      "tags.mlflow.runName                                                AutoEncoder_PCA\n",
      "Name: 0, dtype: object\n",
      "\u001b[1m313/313\u001b[0m \u001b[32m━━━━━━━━━━━━━━━━━━━━\u001b[0m\u001b[37m\u001b[0m \u001b[1m0s\u001b[0m 769us/step\n",
      "Detected 2,256 outliers in a total of 10,000 transactions [22.56%].\n"
     ]
    },
    {
     "data": {
      "image/png": "[encoded data removed]",
      "text/plain": [
       "<Figure size 640x480 with 2 Axes>"
      ]
     },
     "metadata": {},
     "output_type": "display_data"
    }
   ],
   "source": [
    "model_info = search_newest_model(\"AutoEncoder_model\",\"AutoEncoder\")\n",
    "print(model_info)\n",
    "artifact_path = model_info['artifact_uri']       \n",
    "model_uri = f\"{artifact_path}/mlruns\"\n",
    "model = mlflow.tensorflow.load_model(model_uri)\n",
    "reconstructions = model.predict(test_X_transformed_PCA)\n",
    "mse = np.mean(np.power(test_X_transformed_PCA - reconstructions, 2), axis=1)\n",
    "THRESHOLD = model_info['params.threshold']\n",
    "z_scores = mad_score(mse)\n",
    "outliers_PCA = z_scores > float(THRESHOLD)\n",
    "print(f\"Detected {np.sum(outliers_PCA):,} outliers in a total of {np.size(z_scores):,} transactions [{np.sum(outliers_PCA)/np.size(z_scores):.2%}].\")\n",
    "precision_PCA, recall_PCA, f1_socre_PCA = show_result(test_y,outliers_PCA,\"result/confusion_matrix_autoencoder_PCA.png\")\n",
    "metrics_PCA = {\"precision\": precision_PCA, \"recall\": recall_PCA, \"f1_socre\": f1_socre_PCA,\"train_threshold\":THRESHOLD}"
   ]
  },
  {
   "cell_type": "code",
   "execution_count": null,
   "id": "5984a30a-2d5b-4382-a8c5-52f8c56c439c",
   "metadata": {},
   "outputs": [],
   "source": []
  }
 ],
 "metadata": {
  "kernelspec": {
   "display_name": "Python 3 (ipykernel)",
   "language": "python",
   "name": "python3"
  },
  "language_info": {
   "codemirror_mode": {
    "name": "ipython",
    "version": 3
   },
   "file_extension": ".py",
   "mimetype": "text/x-python",
   "name": "python",
   "nbconvert_exporter": "python",
   "pygments_lexer": "ipython3",
   "version": "3.11.4"
  }
 },
 "nbformat": 4,
 "nbformat_minor": 5
}
