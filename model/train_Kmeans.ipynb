{
 "cells": [
  {
   "cell_type": "markdown",
   "metadata": {},
   "source": [
    "# 00 Import libraries"
   ]
  },
  {
   "cell_type": "code",
   "execution_count": 16,
   "metadata": {},
   "outputs": [],
   "source": [
    "\n",
    "\n",
    "import numpy as np \n",
    "import pandas as pd\n",
    "import os\n",
    "from sklearn.ensemble import IsolationForest\n",
    "from sklearn.model_selection import train_test_split\n",
    "from sklearn import model_selection\n",
    "from sklearn.metrics import confusion_matrix, ConfusionMatrixDisplay, classification_report, make_scorer, f1_score\n",
    "from sklearn.preprocessing import StandardScaler\n",
    "from sklearn.cluster import KMeans\n",
    "from sklearn.utils import resample\n",
    "import matplotlib.pyplot as plt\n",
    "from datetime import datetime\n",
    "from joblib import dump, load\n",
    "import mlflow.sklearn\n",
    "import mlflow\n",
    "from mlflow.models import infer_signature\n",
    "from mlflow.tracking import MlflowClient\n",
    "import sys\n",
    "import seaborn as sns\n",
    "\n",
    "\n",
    "from result_display import show_result, export_anomaly\n",
    "from reject_anomalies import pred_baseon_threshold, make_use_reject_anomalies\n",
    "from Feature_engineer import remove_unwanted_col, feature_engineer_steps\n",
    "\n",
    "\n"
   ]
  },
  {
   "cell_type": "markdown",
   "metadata": {},
   "source": [
    "# 01 Loading dataset"
   ]
  },
  {
   "cell_type": "code",
   "execution_count": 17,
   "metadata": {},
   "outputs": [],
   "source": [
    "transactions_df = pd.read_csv(\"data/transactions_df.csv\")\n",
    "terminal_profiles_df = pd.read_csv(\"data/terminal_profiles_table.csv\")\n",
    "customer_profiles_df = pd.read_csv(\"data/customer_profiles_table.csv\")\n",
    "join_terminal = pd.merge(transactions_df, terminal_profiles_df, on='terminal_id', how='inner') #join dataset base on key value\n",
    "join_customer = pd.merge(join_terminal, customer_profiles_df, on='customer_id', how='inner')\n"
   ]
  },
  {
   "cell_type": "code",
   "execution_count": 18,
   "metadata": {},
   "outputs": [
    {
     "name": "stdout",
     "output_type": "stream",
     "text": [
      "['transaction_id', 'post_ts', 'customer_id', 'bin_x', 'terminal_id', 'amt', 'entry_mode', 'fraud', 'fraud_scenario', 'lat_terminal', 'log_terminal', 'mcc', 'mean_amount', 'std_amount', 'mean_nb_tx_per_day', 'network_id', 'bin_y', 'lat_customer', 'log_customer', 'available_terminals', 'nb_terminals']\n"
     ]
    }
   ],
   "source": [
    "print(join_customer.columns.tolist())"
   ]
  },
  {
   "cell_type": "code",
   "execution_count": 31,
   "metadata": {},
   "outputs": [],
   "source": [
    "#creating sample file for client demo purpose\n",
    "samle_file = transactions_df.sample(n=10000, random_state=42)\n",
    "samle_file.to_csv('data/user_demo_data.csv', index=False)"
   ]
  },
  {
   "cell_type": "markdown",
   "metadata": {},
   "source": [
    "# 02 feature engineering \n",
    "\n"
   ]
  },
  {
   "cell_type": "code",
   "execution_count": 20,
   "metadata": {},
   "outputs": [],
   "source": [
    "train_X,train_y = feature_engineer_steps(join_customer)"
   ]
  },
  {
   "cell_type": "code",
   "execution_count": 21,
   "metadata": {},
   "outputs": [
    {
     "name": "stdout",
     "output_type": "stream",
     "text": [
      "['transaction_id', 'post_ts', 'customer_id', 'bin_x', 'terminal_id', 'amt', 'lat_terminal', 'log_terminal', 'mcc', 'mean_amount', 'std_amount', 'mean_nb_tx_per_day', 'bin_y', 'lat_customer', 'log_customer', 'available_terminals', 'nb_terminals', 'location_different', 'using_available_terminals', 'timestamp', 'date', 'per_day_difference_count', 'mean_difference', 'entry_mode_Chip', 'entry_mode_Contactless', 'entry_mode_Swipe', 'network_id_A', 'network_id_D', 'network_id_M', 'network_id_V']\n"
     ]
    }
   ],
   "source": [
    "print(train_X.columns.tolist())"
   ]
  },
  {
   "cell_type": "markdown",
   "metadata": {},
   "source": [
    "### remove unwanted columns of X - \r\n",
    "                         'bin_y',\r\n",
    "                         'mcc',\r\n",
    "                         'bin_x',\r\n",
    "                         'customer_id', \r\n",
    "                         'available_terminals',\r\n",
    "                         'terminal_id',\r\n",
    "                         'timestamp',                     \r\n",
    "                 'transaction_id'_tx_per_day',\r\n",
    "                         'date',\r\n",
    "                         'post_ts',\r\n",
    "                         'using_available_terminals',\r\n",
    "        difference_count',"
   ]
  },
  {
   "cell_type": "code",
   "execution_count": 22,
   "metadata": {},
   "outputs": [
    {
     "data": {
      "text/html": [
       "<div>\n",
       "<style scoped>\n",
       "    .dataframe tbody tr th:only-of-type {\n",
       "        vertical-align: middle;\n",
       "    }\n",
       "\n",
       "    .dataframe tbody tr th {\n",
       "        vertical-align: top;\n",
       "    }\n",
       "\n",
       "    .dataframe thead th {\n",
       "        text-align: right;\n",
       "    }\n",
       "</style>\n",
       "<table border=\"1\" class=\"dataframe\">\n",
       "  <thead>\n",
       "    <tr style=\"text-align: right;\">\n",
       "      <th></th>\n",
       "      <th>amt</th>\n",
       "      <th>lat_terminal</th>\n",
       "      <th>log_terminal</th>\n",
       "      <th>mean_amount</th>\n",
       "      <th>std_amount</th>\n",
       "      <th>mean_nb_tx_per_day</th>\n",
       "      <th>lat_customer</th>\n",
       "      <th>log_customer</th>\n",
       "      <th>nb_terminals</th>\n",
       "      <th>location_different</th>\n",
       "      <th>per_day_difference_count</th>\n",
       "      <th>mean_difference</th>\n",
       "      <th>entry_mode_Chip</th>\n",
       "      <th>entry_mode_Contactless</th>\n",
       "      <th>entry_mode_Swipe</th>\n",
       "      <th>network_id_A</th>\n",
       "      <th>network_id_D</th>\n",
       "      <th>network_id_M</th>\n",
       "      <th>network_id_V</th>\n",
       "    </tr>\n",
       "  </thead>\n",
       "  <tbody>\n",
       "    <tr>\n",
       "      <th>0</th>\n",
       "      <td>38.97</td>\n",
       "      <td>41.6196</td>\n",
       "      <td>8.8804</td>\n",
       "      <td>69.331619</td>\n",
       "      <td>34.665810</td>\n",
       "      <td>1.465526</td>\n",
       "      <td>41.4894</td>\n",
       "      <td>8.5813</td>\n",
       "      <td>8</td>\n",
       "      <td>0.269275</td>\n",
       "      <td>3</td>\n",
       "      <td>-30.361619</td>\n",
       "      <td>False</td>\n",
       "      <td>True</td>\n",
       "      <td>False</td>\n",
       "      <td>False</td>\n",
       "      <td>False</td>\n",
       "      <td>False</td>\n",
       "      <td>True</td>\n",
       "    </tr>\n",
       "    <tr>\n",
       "      <th>1</th>\n",
       "      <td>84.07</td>\n",
       "      <td>39.9841</td>\n",
       "      <td>7.9760</td>\n",
       "      <td>63.288956</td>\n",
       "      <td>31.644478</td>\n",
       "      <td>3.203733</td>\n",
       "      <td>40.0288</td>\n",
       "      <td>8.3337</td>\n",
       "      <td>6</td>\n",
       "      <td>0.354896</td>\n",
       "      <td>3</td>\n",
       "      <td>20.781044</td>\n",
       "      <td>False</td>\n",
       "      <td>True</td>\n",
       "      <td>False</td>\n",
       "      <td>False</td>\n",
       "      <td>True</td>\n",
       "      <td>False</td>\n",
       "      <td>False</td>\n",
       "    </tr>\n",
       "    <tr>\n",
       "      <th>2</th>\n",
       "      <td>113.18</td>\n",
       "      <td>38.1775</td>\n",
       "      <td>7.9678</td>\n",
       "      <td>70.981654</td>\n",
       "      <td>35.490827</td>\n",
       "      <td>3.334656</td>\n",
       "      <td>38.4349</td>\n",
       "      <td>7.8189</td>\n",
       "      <td>9</td>\n",
       "      <td>0.209961</td>\n",
       "      <td>4</td>\n",
       "      <td>42.198346</td>\n",
       "      <td>False</td>\n",
       "      <td>True</td>\n",
       "      <td>False</td>\n",
       "      <td>False</td>\n",
       "      <td>False</td>\n",
       "      <td>False</td>\n",
       "      <td>True</td>\n",
       "    </tr>\n",
       "    <tr>\n",
       "      <th>3</th>\n",
       "      <td>28.96</td>\n",
       "      <td>41.4863</td>\n",
       "      <td>9.3078</td>\n",
       "      <td>16.874338</td>\n",
       "      <td>8.437169</td>\n",
       "      <td>3.548954</td>\n",
       "      <td>41.7687</td>\n",
       "      <td>9.0176</td>\n",
       "      <td>6</td>\n",
       "      <td>0.066830</td>\n",
       "      <td>5</td>\n",
       "      <td>12.085662</td>\n",
       "      <td>True</td>\n",
       "      <td>False</td>\n",
       "      <td>False</td>\n",
       "      <td>False</td>\n",
       "      <td>False</td>\n",
       "      <td>True</td>\n",
       "      <td>False</td>\n",
       "    </tr>\n",
       "    <tr>\n",
       "      <th>4</th>\n",
       "      <td>65.45</td>\n",
       "      <td>38.1393</td>\n",
       "      <td>8.8370</td>\n",
       "      <td>91.312221</td>\n",
       "      <td>45.656110</td>\n",
       "      <td>3.229474</td>\n",
       "      <td>37.9586</td>\n",
       "      <td>8.9459</td>\n",
       "      <td>11</td>\n",
       "      <td>0.144199</td>\n",
       "      <td>4</td>\n",
       "      <td>-25.862221</td>\n",
       "      <td>True</td>\n",
       "      <td>False</td>\n",
       "      <td>False</td>\n",
       "      <td>False</td>\n",
       "      <td>False</td>\n",
       "      <td>False</td>\n",
       "      <td>True</td>\n",
       "    </tr>\n",
       "    <tr>\n",
       "      <th>...</th>\n",
       "      <td>...</td>\n",
       "      <td>...</td>\n",
       "      <td>...</td>\n",
       "      <td>...</td>\n",
       "      <td>...</td>\n",
       "      <td>...</td>\n",
       "      <td>...</td>\n",
       "      <td>...</td>\n",
       "      <td>...</td>\n",
       "      <td>...</td>\n",
       "      <td>...</td>\n",
       "      <td>...</td>\n",
       "      <td>...</td>\n",
       "      <td>...</td>\n",
       "      <td>...</td>\n",
       "      <td>...</td>\n",
       "      <td>...</td>\n",
       "      <td>...</td>\n",
       "      <td>...</td>\n",
       "    </tr>\n",
       "    <tr>\n",
       "      <th>1785303</th>\n",
       "      <td>79.79</td>\n",
       "      <td>40.2779</td>\n",
       "      <td>8.3579</td>\n",
       "      <td>52.436549</td>\n",
       "      <td>26.218275</td>\n",
       "      <td>3.823199</td>\n",
       "      <td>40.1618</td>\n",
       "      <td>7.8099</td>\n",
       "      <td>9</td>\n",
       "      <td>0.535560</td>\n",
       "      <td>1</td>\n",
       "      <td>27.353451</td>\n",
       "      <td>False</td>\n",
       "      <td>True</td>\n",
       "      <td>False</td>\n",
       "      <td>False</td>\n",
       "      <td>False</td>\n",
       "      <td>True</td>\n",
       "      <td>False</td>\n",
       "    </tr>\n",
       "    <tr>\n",
       "      <th>1785304</th>\n",
       "      <td>19.60</td>\n",
       "      <td>41.5019</td>\n",
       "      <td>8.0491</td>\n",
       "      <td>42.268027</td>\n",
       "      <td>21.134014</td>\n",
       "      <td>3.170458</td>\n",
       "      <td>41.1119</td>\n",
       "      <td>7.9758</td>\n",
       "      <td>6</td>\n",
       "      <td>0.383050</td>\n",
       "      <td>6</td>\n",
       "      <td>-22.668027</td>\n",
       "      <td>False</td>\n",
       "      <td>False</td>\n",
       "      <td>True</td>\n",
       "      <td>True</td>\n",
       "      <td>False</td>\n",
       "      <td>False</td>\n",
       "      <td>False</td>\n",
       "    </tr>\n",
       "    <tr>\n",
       "      <th>1785305</th>\n",
       "      <td>23.67</td>\n",
       "      <td>41.3494</td>\n",
       "      <td>8.9351</td>\n",
       "      <td>93.056281</td>\n",
       "      <td>46.528140</td>\n",
       "      <td>2.972050</td>\n",
       "      <td>41.2649</td>\n",
       "      <td>9.4552</td>\n",
       "      <td>6</td>\n",
       "      <td>0.513190</td>\n",
       "      <td>7</td>\n",
       "      <td>-69.386281</td>\n",
       "      <td>False</td>\n",
       "      <td>True</td>\n",
       "      <td>False</td>\n",
       "      <td>False</td>\n",
       "      <td>True</td>\n",
       "      <td>False</td>\n",
       "      <td>False</td>\n",
       "    </tr>\n",
       "    <tr>\n",
       "      <th>1785306</th>\n",
       "      <td>6.26</td>\n",
       "      <td>39.4052</td>\n",
       "      <td>8.0347</td>\n",
       "      <td>5.643105</td>\n",
       "      <td>2.821552</td>\n",
       "      <td>2.213253</td>\n",
       "      <td>39.3579</td>\n",
       "      <td>7.9013</td>\n",
       "      <td>8</td>\n",
       "      <td>0.124733</td>\n",
       "      <td>3</td>\n",
       "      <td>0.616895</td>\n",
       "      <td>True</td>\n",
       "      <td>False</td>\n",
       "      <td>False</td>\n",
       "      <td>True</td>\n",
       "      <td>False</td>\n",
       "      <td>False</td>\n",
       "      <td>False</td>\n",
       "    </tr>\n",
       "    <tr>\n",
       "      <th>1785307</th>\n",
       "      <td>93.69</td>\n",
       "      <td>39.0981</td>\n",
       "      <td>9.0193</td>\n",
       "      <td>76.066819</td>\n",
       "      <td>38.033410</td>\n",
       "      <td>3.585340</td>\n",
       "      <td>39.0152</td>\n",
       "      <td>9.2994</td>\n",
       "      <td>5</td>\n",
       "      <td>0.267551</td>\n",
       "      <td>3</td>\n",
       "      <td>17.623181</td>\n",
       "      <td>True</td>\n",
       "      <td>False</td>\n",
       "      <td>False</td>\n",
       "      <td>False</td>\n",
       "      <td>True</td>\n",
       "      <td>False</td>\n",
       "      <td>False</td>\n",
       "    </tr>\n",
       "  </tbody>\n",
       "</table>\n",
       "<p>1785308 rows × 19 columns</p>\n",
       "</div>"
      ],
      "text/plain": [
       "            amt  lat_terminal  log_terminal  mean_amount  std_amount  \\\n",
       "0         38.97       41.6196        8.8804    69.331619   34.665810   \n",
       "1         84.07       39.9841        7.9760    63.288956   31.644478   \n",
       "2        113.18       38.1775        7.9678    70.981654   35.490827   \n",
       "3         28.96       41.4863        9.3078    16.874338    8.437169   \n",
       "4         65.45       38.1393        8.8370    91.312221   45.656110   \n",
       "...         ...           ...           ...          ...         ...   \n",
       "1785303   79.79       40.2779        8.3579    52.436549   26.218275   \n",
       "1785304   19.60       41.5019        8.0491    42.268027   21.134014   \n",
       "1785305   23.67       41.3494        8.9351    93.056281   46.528140   \n",
       "1785306    6.26       39.4052        8.0347     5.643105    2.821552   \n",
       "1785307   93.69       39.0981        9.0193    76.066819   38.033410   \n",
       "\n",
       "         mean_nb_tx_per_day  lat_customer  log_customer  nb_terminals  \\\n",
       "0                  1.465526       41.4894        8.5813             8   \n",
       "1                  3.203733       40.0288        8.3337             6   \n",
       "2                  3.334656       38.4349        7.8189             9   \n",
       "3                  3.548954       41.7687        9.0176             6   \n",
       "4                  3.229474       37.9586        8.9459            11   \n",
       "...                     ...           ...           ...           ...   \n",
       "1785303            3.823199       40.1618        7.8099             9   \n",
       "1785304            3.170458       41.1119        7.9758             6   \n",
       "1785305            2.972050       41.2649        9.4552             6   \n",
       "1785306            2.213253       39.3579        7.9013             8   \n",
       "1785307            3.585340       39.0152        9.2994             5   \n",
       "\n",
       "         location_different  per_day_difference_count  mean_difference  \\\n",
       "0                  0.269275                         3       -30.361619   \n",
       "1                  0.354896                         3        20.781044   \n",
       "2                  0.209961                         4        42.198346   \n",
       "3                  0.066830                         5        12.085662   \n",
       "4                  0.144199                         4       -25.862221   \n",
       "...                     ...                       ...              ...   \n",
       "1785303            0.535560                         1        27.353451   \n",
       "1785304            0.383050                         6       -22.668027   \n",
       "1785305            0.513190                         7       -69.386281   \n",
       "1785306            0.124733                         3         0.616895   \n",
       "1785307            0.267551                         3        17.623181   \n",
       "\n",
       "         entry_mode_Chip  entry_mode_Contactless  entry_mode_Swipe  \\\n",
       "0                  False                    True             False   \n",
       "1                  False                    True             False   \n",
       "2                  False                    True             False   \n",
       "3                   True                   False             False   \n",
       "4                   True                   False             False   \n",
       "...                  ...                     ...               ...   \n",
       "1785303            False                    True             False   \n",
       "1785304            False                   False              True   \n",
       "1785305            False                    True             False   \n",
       "1785306             True                   False             False   \n",
       "1785307             True                   False             False   \n",
       "\n",
       "         network_id_A  network_id_D  network_id_M  network_id_V  \n",
       "0               False         False         False          True  \n",
       "1               False          True         False         False  \n",
       "2               False         False         False          True  \n",
       "3               False         False          True         False  \n",
       "4               False         False         False          True  \n",
       "...               ...           ...           ...           ...  \n",
       "1785303         False         False          True         False  \n",
       "1785304          True         False         False         False  \n",
       "1785305         False          True         False         False  \n",
       "1785306          True         False         False         False  \n",
       "1785307         False          True         False         False  \n",
       "\n",
       "[1785308 rows x 19 columns]"
      ]
     },
     "execution_count": 22,
     "metadata": {},
     "output_type": "execute_result"
    }
   ],
   "source": [
    "train_X = remove_unwanted_col(train_X)\n",
    "train_X"
   ]
  },
  {
   "cell_type": "markdown",
   "metadata": {},
   "source": [
    "# 03 Scaling Test and train X"
   ]
  },
  {
   "cell_type": "code",
   "execution_count": 23,
   "metadata": {},
   "outputs": [],
   "source": [
    "# Assuming train_X is your feature matrix\n",
    "scaler = StandardScaler()\n",
    "X_train, X_test, y_train, y_test = train_test_split(train_X, train_y, test_size=0.05, random_state=42)\n",
    "X_train_scaled = scaler.fit_transform(X_train)\n",
    "X_test_scaled = scaler.transform(X_test)\n"
   ]
  },
  {
   "cell_type": "markdown",
   "metadata": {},
   "source": [
    "### Finding Elbow coefficient that I found as 4"
   ]
  },
  {
   "cell_type": "code",
   "execution_count": 24,
   "metadata": {},
   "outputs": [],
   "source": [
    "\n",
    "# wcss = []  # Within-cluster sum of squares\n",
    "# for i in range(1, 11):\n",
    "#     kmeans = KMeans(n_clusters=i, init='k-means++', max_iter=300, n_init=10, random_state=0)\n",
    "#     kmeans.fit(X_train_scaled)\n",
    "#     wcss.append(kmeans.inertia_)\n",
    "\n",
    "# # Plot the results to observe the 'elbow'\n",
    "# plt.plot(range(1, 11), wcss)\n",
    "# plt.title('Elbow Method')\n",
    "# plt.xlabel('Number of clusters')\n",
    "# plt.ylabel('WCSS')  # Within cluster sum of squares\n",
    "# plt.show()"
   ]
  },
  {
   "cell_type": "markdown",
   "metadata": {},
   "source": [
    "# 04 Training Model to test"
   ]
  },
  {
   "cell_type": "code",
   "execution_count": 25,
   "metadata": {},
   "outputs": [],
   "source": [
    "\n",
    "\n",
    "# Choose the number of clusters based on your elbow method plot\n",
    "def model_train(n_clusters, X_train_scaled):\n",
    "    kmeans = KMeans(n_clusters=n_clusters, init='k-means++', max_iter=1000, n_init=10, random_state=42)\n",
    "    kmeans.fit(X_train_scaled)\n",
    "    \n",
    "    distances = kmeans.transform(X_train_scaled)\n",
    "    closest_cluster_distance = np.min(distances, axis=1)\n",
    "\n",
    "    ## Percentile as 95\n",
    "    threshold = np.percentile(closest_cluster_distance, 95)\n",
    "\n",
    "    y_pred = closest_cluster_distance > threshold\n",
    "    return y_pred"
   ]
  },
  {
   "cell_type": "code",
   "execution_count": 26,
   "metadata": {},
   "outputs": [
    {
     "name": "stdout",
     "output_type": "stream",
     "text": [
      "finished train N4\n",
      "[array([False, False, False, ..., False, False, False])]\n"
     ]
    }
   ],
   "source": [
    "y_pred = []\n",
    "for i in range(4,5):\n",
    "    y_pred.append(model_train(i, X_train_scaled))\n",
    "    print(f'finished train N{i}')\n",
    "print(y_pred)"
   ]
  },
  {
   "cell_type": "markdown",
   "metadata": {},
   "source": [
    "Test result"
   ]
  },
  {
   "cell_type": "code",
   "execution_count": 27,
   "metadata": {},
   "outputs": [],
   "source": [
    "# Define function to calculate accuracy\n",
    "def calculate_accuracy(cm):\n",
    "    TN, FP, FN, TP = cm.ravel()\n",
    "    accuracy = (TP + TN) / (TP + FP + FN + TN)\n",
    "    return accuracy * 100"
   ]
  },
  {
   "cell_type": "code",
   "execution_count": 28,
   "metadata": {},
   "outputs": [],
   "source": [
    "# Define function to plot confusion matrix\n",
    "def plot_confusion_matrix(y_train, anomalies, ax, accuracies):\n",
    "    cm = confusion_matrix(y_train, anomalies)\n",
    "    accuracy = calculate_accuracy(cm)\n",
    "    accuracies.append(accuracy)\n",
    "    sns.heatmap(cm, annot=True, fmt='d', cmap='Blues', xticklabels=['Normal', 'Anomaly'], yticklabels=['Normal', 'Anomaly'], ax=ax)\n",
    "    ax.set_xlabel('Predicted')\n",
    "    ax.set_ylabel('Actual')\n",
    "    ax.set_title(f'Confusion Matrix (Accuracy: {accuracy:.2f}%)')\n"
   ]
  },
  {
   "cell_type": "code",
   "execution_count": 29,
   "metadata": {},
   "outputs": [
    {
     "data": {
      "image/png": "[encoded data removed]",
      "text/plain": [
       "<Figure size 1200x1200 with 10 Axes>"
      ]
     },
     "metadata": {},
     "output_type": "display_data"
    }
   ],
   "source": [
    "accuracies = []\n",
    "fig, axes = plt.subplots(nrows=3, ncols=3, figsize=(12, 12))\n",
    "for idx, pred in enumerate(y_pred):\n",
    "    row = idx // 3\n",
    "    col = idx % 3\n",
    "    ax = axes[row, col]\n",
    "    plot_confusion_matrix(y_train, pred, ax, accuracies)\n",
    "plt.tight_layout()\n",
    "plt.show()"
   ]
  },
  {
   "cell_type": "markdown",
   "metadata": {},
   "source": [
    "# 05 Final Model output and save"
   ]
  },
  {
   "cell_type": "code",
   "execution_count": 30,
   "metadata": {},
   "outputs": [
    {
     "data": {
      "text/plain": [
       "['saved_model/best_model_Kmeans.joblib']"
      ]
     },
     "execution_count": 30,
     "metadata": {},
     "output_type": "execute_result"
    }
   ],
   "source": [
    "\n",
    "\n",
    "n_clusters_optimal = 4\n",
    "kmeans_optimal = KMeans(n_clusters=n_clusters_optimal, init='k-means++', max_iter=300, n_init=10, random_state=0)\n",
    "kmeans_optimal.fit(X_train_scaled)\n",
    "dump(kmeans_optimal, 'saved_model/best_model_Kmeans.joblib')"
   ]
  },
  {
   "cell_type": "markdown",
   "metadata": {},
   "source": []
  },
  {
   "cell_type": "code",
   "execution_count": null,
   "metadata": {},
   "outputs": [],
   "source": []
  },
  {
   "cell_type": "code",
   "execution_count": null,
   "metadata": {},
   "outputs": [],
   "source": []
  }
 ],
 "metadata": {
  "kernelspec": {
   "display_name": "Python 3 (ipykernel)",
   "language": "python",
   "name": "python3"
  },
  "language_info": {
   "codemirror_mode": {
    "name": "ipython",
    "version": 3
   },
   "file_extension": ".py",
   "mimetype": "text/x-python",
   "name": "python",
   "nbconvert_exporter": "python",
   "pygments_lexer": "ipython3",
   "version": "3.11.5"
  }
 },
 "nbformat": 4,
 "nbformat_minor": 4
}
