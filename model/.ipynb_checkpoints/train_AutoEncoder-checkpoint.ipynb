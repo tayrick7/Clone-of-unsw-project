{
 "cells": [
  {
   "cell_type": "code",
   "execution_count": 1,
   "id": "c68d8922-2594-477f-bc50-dbda04aa5803",
   "metadata": {},
   "outputs": [],
   "source": [
    "import tensorflow as tf\n",
    "from tensorflow.keras import Model\n",
    "import numpy as np \n",
    "import pandas as pd\n",
    "import os\n",
    "from result_display import show_result,export_anomaly\n",
    "from reject_anomalies import pred_baseon_threshold,make_use_reject_anomalies\n",
    "from Feature_engineer import remove_unwanted_col_autoencoder, feature_engineer_steps\n",
    "import tensorflow as tf\n",
    "from sklearn.model_selection import train_test_split\n",
    "import torch\n",
    "from datetime import datetime\n",
    "import matplotlib.pyplot as plt\n",
    "from Data_preprocessing_method import apply_PCA\n",
    "from AutoEncoder_util import convert_type, transform_data, mad_score"
   ]
  },
  {
   "cell_type": "code",
   "execution_count": 2,
   "id": "e86125e0-7ee7-48d0-bd28-5d0e5f9df97e",
   "metadata": {},
   "outputs": [
    {
     "name": "stdout",
     "output_type": "stream",
     "text": [
      "TensorFlow version: 2.16.1\n"
     ]
    }
   ],
   "source": [
    "print(\"TensorFlow version:\", tf.__version__)"
   ]
  },
  {
   "cell_type": "code",
   "execution_count": 3,
   "id": "3538dea5-3994-4a3e-90dd-9635459e0766",
   "metadata": {},
   "outputs": [],
   "source": [
    "transactions_df = pd.read_csv(\"data/transactions_df.csv\")\n",
    "terminal_profiles_df = pd.read_csv(\"data/terminal_profiles_table.csv\")\n",
    "customer_profiles_df = pd.read_csv(\"data/customer_profiles_table.csv\")\n",
    "join_terminal = pd.merge(transactions_df, terminal_profiles_df, on='terminal_id', how='inner') \n",
    "join_customer = pd.merge(join_terminal, customer_profiles_df, on='customer_id', how='inner')\n",
    "# 80% for training 20% for validation\n",
    "train_size = int(len(join_customer)*0.8)\n",
    "join_customer_train = join_customer.iloc[:train_size]\n",
    "\n",
    "# only normal data for training\n",
    "join_customer_normal =  join_customer_train[join_customer_train['fraud'] == 0].copy()\n",
    "\n",
    "# obtain test x with normal and fraud data\n",
    "train_X,train_y = feature_engineer_steps(join_customer)\n",
    "train_X = remove_unwanted_col_autoencoder(train_X)\n",
    "test_X = convert_type(train_X.iloc[train_size:])\n",
    "test_y = convert_type(train_y.iloc[train_size:])\n",
    "\n",
    "# obtain train data with only normal data\n",
    "train_X_normal,train_y_normal = feature_engineer_steps(join_customer_normal)\n",
    "train_X_normal = convert_type(remove_unwanted_col_autoencoder(train_X_normal))\n",
    "\n"
   ]
  },
  {
   "cell_type": "code",
   "execution_count": 4,
   "id": "759a5060-35c1-454a-9ce3-3af70ef89287",
   "metadata": {},
   "outputs": [],
   "source": [
    "#split training set\n",
    "X_train, X_validate = train_test_split(train_X_normal, \n",
    "                                       test_size=0.2, \n",
    "                                       random_state=42)\n",
    "\n",
    "# transform data with normalization and min max scale\n",
    "X_train_transformed = transform_data(X_train)\n",
    "X_validate_transformed = transform_data(X_validate)\n",
    "\n"
   ]
  },
  {
   "cell_type": "code",
   "execution_count": 5,
   "id": "267e9697-4edb-4640-a84e-348c2b5acfc5",
   "metadata": {},
   "outputs": [
    {
     "name": "stderr",
     "output_type": "stream",
     "text": [
      "C:\\Users\\Leonwu\\AppData\\Roaming\\Python\\Python311\\site-packages\\keras\\src\\layers\\core\\dense.py:86: UserWarning: Do not pass an `input_shape`/`input_dim` argument to a layer. When using Sequential models, prefer using an `Input(shape)` object as the first layer in the model instead.\n",
      "  super().__init__(activity_regularizer=activity_regularizer, **kwargs)\n"
     ]
    }
   ],
   "source": [
    "#Autoencoder network\n",
    "input_dim = X_train_transformed.shape[1]\n",
    "BATCH_SIZE = 256\n",
    "EPOCHS = 100\n",
    "autoencoder = tf.keras.models.Sequential([\n",
    "    \n",
    "    # deconstruct / encode\n",
    "    tf.keras.layers.Dense(input_dim, activation='relu', input_shape=(input_dim, )), \n",
    "    tf.keras.layers.Dense(8, activation='relu'),\n",
    "    tf.keras.layers.Dense(16, activation='relu'),\n",
    "    tf.keras.layers.Dense(32, activation='relu'),\n",
    "    tf.keras.layers.Dense(32, activation='relu'),\n",
    "    \n",
    "    # reconstruction / decode\n",
    "    tf.keras.layers.Dense(32, activation='relu'),\n",
    "    tf.keras.layers.Dense(16, activation='relu'),\n",
    "    tf.keras.layers.Dense(8, activation='relu'),\n",
    "    tf.keras.layers.Dense(input_dim, activation='relu')\n",
    "    \n",
    "])\n",
    "autoencoder.compile(optimizer=\"adam\", \n",
    "                    loss=\"mse\",\n",
    "                    metrics=[\"acc\"])\n"
   ]
  },
  {
   "cell_type": "code",
   "execution_count": 14,
   "id": "997dc079-686c-4a8c-94d6-cfb53b39a848",
   "metadata": {},
   "outputs": [
    {
     "data": {
      "text/html": [
       "<pre style=\"white-space:pre;overflow-x:auto;line-height:normal;font-family:Menlo,'DejaVu Sans Mono',consolas,'Courier New',monospace\"><span style=\"font-weight: bold\">Model: \"sequential_1\"</span>\n",
       "</pre>\n"
      ],
      "text/plain": [
       "\u001b[1mModel: \"sequential_1\"\u001b[0m\n"
      ]
     },
     "metadata": {},
     "output_type": "display_data"
    },
    {
     "data": {
      "text/html": [
       "<pre style=\"white-space:pre;overflow-x:auto;line-height:normal;font-family:Menlo,'DejaVu Sans Mono',consolas,'Courier New',monospace\">┏━━━━━━━━━━━━━━━━━━━━━━━━━━━━━━━━━━━━━━┳━━━━━━━━━━━━━━━━━━━━━━━━━━━━━┳━━━━━━━━━━━━━━━━━┓\n",
       "┃<span style=\"font-weight: bold\"> Layer (type)                         </span>┃<span style=\"font-weight: bold\"> Output Shape                </span>┃<span style=\"font-weight: bold\">         Param # </span>┃\n",
       "┡━━━━━━━━━━━━━━━━━━━━━━━━━━━━━━━━━━━━━━╇━━━━━━━━━━━━━━━━━━━━━━━━━━━━━╇━━━━━━━━━━━━━━━━━┩\n",
       "│ dense_9 (<span style=\"color: #0087ff; text-decoration-color: #0087ff\">Dense</span>)                      │ (<span style=\"color: #00d7ff; text-decoration-color: #00d7ff\">None</span>, <span style=\"color: #00af00; text-decoration-color: #00af00\">7</span>)                   │              <span style=\"color: #00af00; text-decoration-color: #00af00\">56</span> │\n",
       "├──────────────────────────────────────┼─────────────────────────────┼─────────────────┤\n",
       "│ dense_10 (<span style=\"color: #0087ff; text-decoration-color: #0087ff\">Dense</span>)                     │ (<span style=\"color: #00d7ff; text-decoration-color: #00d7ff\">None</span>, <span style=\"color: #00af00; text-decoration-color: #00af00\">8</span>)                   │              <span style=\"color: #00af00; text-decoration-color: #00af00\">64</span> │\n",
       "├──────────────────────────────────────┼─────────────────────────────┼─────────────────┤\n",
       "│ dense_11 (<span style=\"color: #0087ff; text-decoration-color: #0087ff\">Dense</span>)                     │ (<span style=\"color: #00d7ff; text-decoration-color: #00d7ff\">None</span>, <span style=\"color: #00af00; text-decoration-color: #00af00\">16</span>)                  │             <span style=\"color: #00af00; text-decoration-color: #00af00\">144</span> │\n",
       "├──────────────────────────────────────┼─────────────────────────────┼─────────────────┤\n",
       "│ dense_12 (<span style=\"color: #0087ff; text-decoration-color: #0087ff\">Dense</span>)                     │ (<span style=\"color: #00d7ff; text-decoration-color: #00d7ff\">None</span>, <span style=\"color: #00af00; text-decoration-color: #00af00\">32</span>)                  │             <span style=\"color: #00af00; text-decoration-color: #00af00\">544</span> │\n",
       "├──────────────────────────────────────┼─────────────────────────────┼─────────────────┤\n",
       "│ dense_13 (<span style=\"color: #0087ff; text-decoration-color: #0087ff\">Dense</span>)                     │ (<span style=\"color: #00d7ff; text-decoration-color: #00d7ff\">None</span>, <span style=\"color: #00af00; text-decoration-color: #00af00\">32</span>)                  │           <span style=\"color: #00af00; text-decoration-color: #00af00\">1,056</span> │\n",
       "├──────────────────────────────────────┼─────────────────────────────┼─────────────────┤\n",
       "│ dense_14 (<span style=\"color: #0087ff; text-decoration-color: #0087ff\">Dense</span>)                     │ (<span style=\"color: #00d7ff; text-decoration-color: #00d7ff\">None</span>, <span style=\"color: #00af00; text-decoration-color: #00af00\">32</span>)                  │           <span style=\"color: #00af00; text-decoration-color: #00af00\">1,056</span> │\n",
       "├──────────────────────────────────────┼─────────────────────────────┼─────────────────┤\n",
       "│ dense_15 (<span style=\"color: #0087ff; text-decoration-color: #0087ff\">Dense</span>)                     │ (<span style=\"color: #00d7ff; text-decoration-color: #00d7ff\">None</span>, <span style=\"color: #00af00; text-decoration-color: #00af00\">16</span>)                  │             <span style=\"color: #00af00; text-decoration-color: #00af00\">528</span> │\n",
       "├──────────────────────────────────────┼─────────────────────────────┼─────────────────┤\n",
       "│ dense_16 (<span style=\"color: #0087ff; text-decoration-color: #0087ff\">Dense</span>)                     │ (<span style=\"color: #00d7ff; text-decoration-color: #00d7ff\">None</span>, <span style=\"color: #00af00; text-decoration-color: #00af00\">8</span>)                   │             <span style=\"color: #00af00; text-decoration-color: #00af00\">136</span> │\n",
       "├──────────────────────────────────────┼─────────────────────────────┼─────────────────┤\n",
       "│ dense_17 (<span style=\"color: #0087ff; text-decoration-color: #0087ff\">Dense</span>)                     │ (<span style=\"color: #00d7ff; text-decoration-color: #00d7ff\">None</span>, <span style=\"color: #00af00; text-decoration-color: #00af00\">7</span>)                   │              <span style=\"color: #00af00; text-decoration-color: #00af00\">63</span> │\n",
       "└──────────────────────────────────────┴─────────────────────────────┴─────────────────┘\n",
       "</pre>\n"
      ],
      "text/plain": [
       "┏━━━━━━━━━━━━━━━━━━━━━━━━━━━━━━━━━━━━━━┳━━━━━━━━━━━━━━━━━━━━━━━━━━━━━┳━━━━━━━━━━━━━━━━━┓\n",
       "┃\u001b[1m \u001b[0m\u001b[1mLayer (type)                        \u001b[0m\u001b[1m \u001b[0m┃\u001b[1m \u001b[0m\u001b[1mOutput Shape               \u001b[0m\u001b[1m \u001b[0m┃\u001b[1m \u001b[0m\u001b[1m        Param #\u001b[0m\u001b[1m \u001b[0m┃\n",
       "┡━━━━━━━━━━━━━━━━━━━━━━━━━━━━━━━━━━━━━━╇━━━━━━━━━━━━━━━━━━━━━━━━━━━━━╇━━━━━━━━━━━━━━━━━┩\n",
       "│ dense_9 (\u001b[38;5;33mDense\u001b[0m)                      │ (\u001b[38;5;45mNone\u001b[0m, \u001b[38;5;34m7\u001b[0m)                   │              \u001b[38;5;34m56\u001b[0m │\n",
       "├──────────────────────────────────────┼─────────────────────────────┼─────────────────┤\n",
       "│ dense_10 (\u001b[38;5;33mDense\u001b[0m)                     │ (\u001b[38;5;45mNone\u001b[0m, \u001b[38;5;34m8\u001b[0m)                   │              \u001b[38;5;34m64\u001b[0m │\n",
       "├──────────────────────────────────────┼─────────────────────────────┼─────────────────┤\n",
       "│ dense_11 (\u001b[38;5;33mDense\u001b[0m)                     │ (\u001b[38;5;45mNone\u001b[0m, \u001b[38;5;34m16\u001b[0m)                  │             \u001b[38;5;34m144\u001b[0m │\n",
       "├──────────────────────────────────────┼─────────────────────────────┼─────────────────┤\n",
       "│ dense_12 (\u001b[38;5;33mDense\u001b[0m)                     │ (\u001b[38;5;45mNone\u001b[0m, \u001b[38;5;34m32\u001b[0m)                  │             \u001b[38;5;34m544\u001b[0m │\n",
       "├──────────────────────────────────────┼─────────────────────────────┼─────────────────┤\n",
       "│ dense_13 (\u001b[38;5;33mDense\u001b[0m)                     │ (\u001b[38;5;45mNone\u001b[0m, \u001b[38;5;34m32\u001b[0m)                  │           \u001b[38;5;34m1,056\u001b[0m │\n",
       "├──────────────────────────────────────┼─────────────────────────────┼─────────────────┤\n",
       "│ dense_14 (\u001b[38;5;33mDense\u001b[0m)                     │ (\u001b[38;5;45mNone\u001b[0m, \u001b[38;5;34m32\u001b[0m)                  │           \u001b[38;5;34m1,056\u001b[0m │\n",
       "├──────────────────────────────────────┼─────────────────────────────┼─────────────────┤\n",
       "│ dense_15 (\u001b[38;5;33mDense\u001b[0m)                     │ (\u001b[38;5;45mNone\u001b[0m, \u001b[38;5;34m16\u001b[0m)                  │             \u001b[38;5;34m528\u001b[0m │\n",
       "├──────────────────────────────────────┼─────────────────────────────┼─────────────────┤\n",
       "│ dense_16 (\u001b[38;5;33mDense\u001b[0m)                     │ (\u001b[38;5;45mNone\u001b[0m, \u001b[38;5;34m8\u001b[0m)                   │             \u001b[38;5;34m136\u001b[0m │\n",
       "├──────────────────────────────────────┼─────────────────────────────┼─────────────────┤\n",
       "│ dense_17 (\u001b[38;5;33mDense\u001b[0m)                     │ (\u001b[38;5;45mNone\u001b[0m, \u001b[38;5;34m7\u001b[0m)                   │              \u001b[38;5;34m63\u001b[0m │\n",
       "└──────────────────────────────────────┴─────────────────────────────┴─────────────────┘\n"
      ]
     },
     "metadata": {},
     "output_type": "display_data"
    },
    {
     "data": {
      "text/html": [
       "<pre style=\"white-space:pre;overflow-x:auto;line-height:normal;font-family:Menlo,'DejaVu Sans Mono',consolas,'Courier New',monospace\"><span style=\"font-weight: bold\"> Total params: </span><span style=\"color: #00af00; text-decoration-color: #00af00\">10,943</span> (42.75 KB)\n",
       "</pre>\n"
      ],
      "text/plain": [
       "\u001b[1m Total params: \u001b[0m\u001b[38;5;34m10,943\u001b[0m (42.75 KB)\n"
      ]
     },
     "metadata": {},
     "output_type": "display_data"
    },
    {
     "data": {
      "text/html": [
       "<pre style=\"white-space:pre;overflow-x:auto;line-height:normal;font-family:Menlo,'DejaVu Sans Mono',consolas,'Courier New',monospace\"><span style=\"font-weight: bold\"> Trainable params: </span><span style=\"color: #00af00; text-decoration-color: #00af00\">3,647</span> (14.25 KB)\n",
       "</pre>\n"
      ],
      "text/plain": [
       "\u001b[1m Trainable params: \u001b[0m\u001b[38;5;34m3,647\u001b[0m (14.25 KB)\n"
      ]
     },
     "metadata": {},
     "output_type": "display_data"
    },
    {
     "data": {
      "text/html": [
       "<pre style=\"white-space:pre;overflow-x:auto;line-height:normal;font-family:Menlo,'DejaVu Sans Mono',consolas,'Courier New',monospace\"><span style=\"font-weight: bold\"> Non-trainable params: </span><span style=\"color: #00af00; text-decoration-color: #00af00\">0</span> (0.00 B)\n",
       "</pre>\n"
      ],
      "text/plain": [
       "\u001b[1m Non-trainable params: \u001b[0m\u001b[38;5;34m0\u001b[0m (0.00 B)\n"
      ]
     },
     "metadata": {},
     "output_type": "display_data"
    },
    {
     "data": {
      "text/html": [
       "<pre style=\"white-space:pre;overflow-x:auto;line-height:normal;font-family:Menlo,'DejaVu Sans Mono',consolas,'Courier New',monospace\"><span style=\"font-weight: bold\"> Optimizer params: </span><span style=\"color: #00af00; text-decoration-color: #00af00\">7,296</span> (28.50 KB)\n",
       "</pre>\n"
      ],
      "text/plain": [
       "\u001b[1m Optimizer params: \u001b[0m\u001b[38;5;34m7,296\u001b[0m (28.50 KB)\n"
      ]
     },
     "metadata": {},
     "output_type": "display_data"
    }
   ],
   "source": [
    "autoencoder.summary();"
   ]
  },
  {
   "cell_type": "code",
   "execution_count": 7,
   "id": "9b429cf2-8615-4845-84cb-d650cc4532ff",
   "metadata": {},
   "outputs": [],
   "source": [
    "# define our early stopping\n",
    "early_stop = tf.keras.callbacks.EarlyStopping(\n",
    "    monitor='val_loss',\n",
    "    min_delta=0.0001,\n",
    "    patience=10,\n",
    "    verbose=1, \n",
    "    mode='min',\n",
    "    restore_best_weights=True\n",
    ")\n",
    "\n",
    "save_model = tf.keras.callbacks.ModelCheckpoint(\n",
    "    filepath='saved_model/autoencoder_best_weights.keras',\n",
    "    save_best_only=True,\n",
    "    monitor='val_loss',\n",
    "    verbose=1,\n",
    "    mode='min'\n",
    ")\n",
    "\n",
    "# callbacks argument only takes a list\n",
    "cb = [early_stop, save_model]"
   ]
  },
  {
   "cell_type": "code",
   "execution_count": 8,
   "id": "05f15657-ee95-4949-a487-e86670b60455",
   "metadata": {},
   "outputs": [
    {
     "name": "stdout",
     "output_type": "stream",
     "text": [
      "Epoch 1/100\n",
      "\u001b[1m4298/4330\u001b[0m \u001b[32m━━━━━━━━━━━━━━━━━━━\u001b[0m\u001b[37m━\u001b[0m \u001b[1m0s\u001b[0m 977us/step - acc: 0.4096 - loss: 0.0687\n",
      "Epoch 1: val_loss improved from inf to 0.04703, saving model to saved_model/autoencoder_best_weights.keras\n",
      "\u001b[1m4330/4330\u001b[0m \u001b[32m━━━━━━━━━━━━━━━━━━━━\u001b[0m\u001b[37m\u001b[0m \u001b[1m7s\u001b[0m 1ms/step - acc: 0.4100 - loss: 0.0686 - val_acc: 0.4428 - val_loss: 0.0470\n",
      "Epoch 2/100\n",
      "\u001b[1m4319/4330\u001b[0m \u001b[32m━━━━━━━━━━━━━━━━━━━\u001b[0m\u001b[37m━\u001b[0m \u001b[1m0s\u001b[0m 1ms/step - acc: 0.4809 - loss: 0.0466\n",
      "Epoch 2: val_loss improved from 0.04703 to 0.04616, saving model to saved_model/autoencoder_best_weights.keras\n",
      "\u001b[1m4330/4330\u001b[0m \u001b[32m━━━━━━━━━━━━━━━━━━━━\u001b[0m\u001b[37m\u001b[0m \u001b[1m5s\u001b[0m 1ms/step - acc: 0.4809 - loss: 0.0466 - val_acc: 0.5094 - val_loss: 0.0462\n",
      "Epoch 3/100\n",
      "\u001b[1m4324/4330\u001b[0m \u001b[32m━━━━━━━━━━━━━━━━━━━\u001b[0m\u001b[37m━\u001b[0m \u001b[1m0s\u001b[0m 1ms/step - acc: 0.5002 - loss: 0.0461\n",
      "Epoch 3: val_loss did not improve from 0.04616\n",
      "\u001b[1m4330/4330\u001b[0m \u001b[32m━━━━━━━━━━━━━━━━━━━━\u001b[0m\u001b[37m\u001b[0m \u001b[1m5s\u001b[0m 1ms/step - acc: 0.5002 - loss: 0.0461 - val_acc: 0.5059 - val_loss: 0.0462\n",
      "Epoch 4/100\n",
      "\u001b[1m4315/4330\u001b[0m \u001b[32m━━━━━━━━━━━━━━━━━━━\u001b[0m\u001b[37m━\u001b[0m \u001b[1m0s\u001b[0m 1ms/step - acc: 0.5018 - loss: 0.0461\n",
      "Epoch 4: val_loss improved from 0.04616 to 0.04611, saving model to saved_model/autoencoder_best_weights.keras\n",
      "\u001b[1m4330/4330\u001b[0m \u001b[32m━━━━━━━━━━━━━━━━━━━━\u001b[0m\u001b[37m\u001b[0m \u001b[1m5s\u001b[0m 1ms/step - acc: 0.5018 - loss: 0.0461 - val_acc: 0.4426 - val_loss: 0.0461\n",
      "Epoch 5/100\n",
      "\u001b[1m4318/4330\u001b[0m \u001b[32m━━━━━━━━━━━━━━━━━━━\u001b[0m\u001b[37m━\u001b[0m \u001b[1m0s\u001b[0m 1ms/step - acc: 0.4996 - loss: 0.0461\n",
      "Epoch 5: val_loss improved from 0.04611 to 0.04592, saving model to saved_model/autoencoder_best_weights.keras\n",
      "\u001b[1m4330/4330\u001b[0m \u001b[32m━━━━━━━━━━━━━━━━━━━━\u001b[0m\u001b[37m\u001b[0m \u001b[1m5s\u001b[0m 1ms/step - acc: 0.4996 - loss: 0.0461 - val_acc: 0.4549 - val_loss: 0.0459\n",
      "Epoch 6/100\n",
      "\u001b[1m4326/4330\u001b[0m \u001b[32m━━━━━━━━━━━━━━━━━━━\u001b[0m\u001b[37m━\u001b[0m \u001b[1m0s\u001b[0m 1ms/step - acc: 0.4951 - loss: 0.0457\n",
      "Epoch 6: val_loss improved from 0.04592 to 0.04547, saving model to saved_model/autoencoder_best_weights.keras\n",
      "\u001b[1m4330/4330\u001b[0m \u001b[32m━━━━━━━━━━━━━━━━━━━━\u001b[0m\u001b[37m\u001b[0m \u001b[1m5s\u001b[0m 1ms/step - acc: 0.4951 - loss: 0.0457 - val_acc: 0.4841 - val_loss: 0.0455\n",
      "Epoch 7/100\n",
      "\u001b[1m4311/4330\u001b[0m \u001b[32m━━━━━━━━━━━━━━━━━━━\u001b[0m\u001b[37m━\u001b[0m \u001b[1m0s\u001b[0m 1ms/step - acc: 0.4987 - loss: 0.0454\n",
      "Epoch 7: val_loss improved from 0.04547 to 0.04544, saving model to saved_model/autoencoder_best_weights.keras\n",
      "\u001b[1m4330/4330\u001b[0m \u001b[32m━━━━━━━━━━━━━━━━━━━━\u001b[0m\u001b[37m\u001b[0m \u001b[1m5s\u001b[0m 1ms/step - acc: 0.4987 - loss: 0.0454 - val_acc: 0.5667 - val_loss: 0.0454\n",
      "Epoch 8/100\n",
      "\u001b[1m4280/4330\u001b[0m \u001b[32m━━━━━━━━━━━━━━━━━━━\u001b[0m\u001b[37m━\u001b[0m \u001b[1m0s\u001b[0m 1ms/step - acc: 0.5004 - loss: 0.0454\n",
      "Epoch 8: val_loss improved from 0.04544 to 0.04544, saving model to saved_model/autoencoder_best_weights.keras\n",
      "\u001b[1m4330/4330\u001b[0m \u001b[32m━━━━━━━━━━━━━━━━━━━━\u001b[0m\u001b[37m\u001b[0m \u001b[1m5s\u001b[0m 1ms/step - acc: 0.5004 - loss: 0.0454 - val_acc: 0.4743 - val_loss: 0.0454\n",
      "Epoch 9/100\n",
      "\u001b[1m4298/4330\u001b[0m \u001b[32m━━━━━━━━━━━━━━━━━━━\u001b[0m\u001b[37m━\u001b[0m \u001b[1m0s\u001b[0m 998us/step - acc: 0.5004 - loss: 0.0454\n",
      "Epoch 9: val_loss improved from 0.04544 to 0.04543, saving model to saved_model/autoencoder_best_weights.keras\n",
      "\u001b[1m4330/4330\u001b[0m \u001b[32m━━━━━━━━━━━━━━━━━━━━\u001b[0m\u001b[37m\u001b[0m \u001b[1m5s\u001b[0m 1ms/step - acc: 0.5005 - loss: 0.0454 - val_acc: 0.4863 - val_loss: 0.0454\n",
      "Epoch 10/100\n",
      "\u001b[1m4301/4330\u001b[0m \u001b[32m━━━━━━━━━━━━━━━━━━━\u001b[0m\u001b[37m━\u001b[0m \u001b[1m0s\u001b[0m 1ms/step - acc: 0.5007 - loss: 0.0454\n",
      "Epoch 10: val_loss did not improve from 0.04543\n",
      "\u001b[1m4330/4330\u001b[0m \u001b[32m━━━━━━━━━━━━━━━━━━━━\u001b[0m\u001b[37m\u001b[0m \u001b[1m5s\u001b[0m 1ms/step - acc: 0.5007 - loss: 0.0454 - val_acc: 0.5221 - val_loss: 0.0454\n",
      "Epoch 11/100\n",
      "\u001b[1m4298/4330\u001b[0m \u001b[32m━━━━━━━━━━━━━━━━━━━\u001b[0m\u001b[37m━\u001b[0m \u001b[1m0s\u001b[0m 1ms/step - acc: 0.5020 - loss: 0.0454\n",
      "Epoch 11: val_loss improved from 0.04543 to 0.04543, saving model to saved_model/autoencoder_best_weights.keras\n",
      "\u001b[1m4330/4330\u001b[0m \u001b[32m━━━━━━━━━━━━━━━━━━━━\u001b[0m\u001b[37m\u001b[0m \u001b[1m5s\u001b[0m 1ms/step - acc: 0.5020 - loss: 0.0454 - val_acc: 0.5360 - val_loss: 0.0454\n",
      "Epoch 12/100\n",
      "\u001b[1m4303/4330\u001b[0m \u001b[32m━━━━━━━━━━━━━━━━━━━\u001b[0m\u001b[37m━\u001b[0m \u001b[1m0s\u001b[0m 1ms/step - acc: 0.5012 - loss: 0.0454\n",
      "Epoch 12: val_loss did not improve from 0.04543\n",
      "\u001b[1m4330/4330\u001b[0m \u001b[32m━━━━━━━━━━━━━━━━━━━━\u001b[0m\u001b[37m\u001b[0m \u001b[1m5s\u001b[0m 1ms/step - acc: 0.5012 - loss: 0.0454 - val_acc: 0.5027 - val_loss: 0.0454\n",
      "Epoch 13/100\n",
      "\u001b[1m4328/4330\u001b[0m \u001b[32m━━━━━━━━━━━━━━━━━━━\u001b[0m\u001b[37m━\u001b[0m \u001b[1m0s\u001b[0m 1ms/step - acc: 0.5017 - loss: 0.0455\n",
      "Epoch 13: val_loss did not improve from 0.04543\n",
      "\u001b[1m4330/4330\u001b[0m \u001b[32m━━━━━━━━━━━━━━━━━━━━\u001b[0m\u001b[37m\u001b[0m \u001b[1m5s\u001b[0m 1ms/step - acc: 0.5017 - loss: 0.0455 - val_acc: 0.5103 - val_loss: 0.0454\n",
      "Epoch 14/100\n",
      "\u001b[1m4328/4330\u001b[0m \u001b[32m━━━━━━━━━━━━━━━━━━━\u001b[0m\u001b[37m━\u001b[0m \u001b[1m0s\u001b[0m 1ms/step - acc: 0.5017 - loss: 0.0454\n",
      "Epoch 14: val_loss did not improve from 0.04543\n",
      "\u001b[1m4330/4330\u001b[0m \u001b[32m━━━━━━━━━━━━━━━━━━━━\u001b[0m\u001b[37m\u001b[0m \u001b[1m5s\u001b[0m 1ms/step - acc: 0.5017 - loss: 0.0454 - val_acc: 0.5219 - val_loss: 0.0454\n",
      "Epoch 15/100\n",
      "\u001b[1m4305/4330\u001b[0m \u001b[32m━━━━━━━━━━━━━━━━━━━\u001b[0m\u001b[37m━\u001b[0m \u001b[1m0s\u001b[0m 1ms/step - acc: 0.5010 - loss: 0.0454\n",
      "Epoch 15: val_loss did not improve from 0.04543\n",
      "\u001b[1m4330/4330\u001b[0m \u001b[32m━━━━━━━━━━━━━━━━━━━━\u001b[0m\u001b[37m\u001b[0m \u001b[1m5s\u001b[0m 1ms/step - acc: 0.5010 - loss: 0.0454 - val_acc: 0.5274 - val_loss: 0.0454\n",
      "Epoch 16/100\n",
      "\u001b[1m4324/4330\u001b[0m \u001b[32m━━━━━━━━━━━━━━━━━━━\u001b[0m\u001b[37m━\u001b[0m \u001b[1m0s\u001b[0m 1ms/step - acc: 0.5014 - loss: 0.0454\n",
      "Epoch 16: val_loss did not improve from 0.04543\n",
      "\u001b[1m4330/4330\u001b[0m \u001b[32m━━━━━━━━━━━━━━━━━━━━\u001b[0m\u001b[37m\u001b[0m \u001b[1m6s\u001b[0m 1ms/step - acc: 0.5014 - loss: 0.0454 - val_acc: 0.5653 - val_loss: 0.0454\n",
      "Epoch 16: early stopping\n",
      "Restoring model weights from the end of the best epoch: 6.\n"
     ]
    }
   ],
   "source": [
    "history = autoencoder.fit(\n",
    "    X_train_transformed, X_train_transformed,\n",
    "    shuffle=True,\n",
    "    epochs=EPOCHS,\n",
    "    batch_size=BATCH_SIZE,\n",
    "    callbacks=cb,\n",
    "    validation_data=(X_validate_transformed, X_validate_transformed)\n",
    ");"
   ]
  },
  {
   "cell_type": "markdown",
   "id": "7195ef8f-c752-4be6-8722-ada84365b889",
   "metadata": {},
   "source": [
    "## Train model with PCA option"
   ]
  },
  {
   "cell_type": "code",
   "execution_count": 9,
   "id": "4326c21f-0c19-45f3-836f-be9cbebc10f6",
   "metadata": {},
   "outputs": [],
   "source": [
    "# apply PCA\n",
    "X_train_transformed_PCA = apply_PCA(X_train_transformed,7)\n",
    "X_validate_transformed_PCA = apply_PCA(X_validate_transformed,7)"
   ]
  },
  {
   "cell_type": "code",
   "execution_count": 10,
   "id": "5e71b9aa-bb2d-43fd-98ec-68f890865168",
   "metadata": {},
   "outputs": [
    {
     "name": "stderr",
     "output_type": "stream",
     "text": [
      "C:\\Users\\Leonwu\\AppData\\Roaming\\Python\\Python311\\site-packages\\keras\\src\\layers\\core\\dense.py:86: UserWarning: Do not pass an `input_shape`/`input_dim` argument to a layer. When using Sequential models, prefer using an `Input(shape)` object as the first layer in the model instead.\n",
      "  super().__init__(activity_regularizer=activity_regularizer, **kwargs)\n"
     ]
    }
   ],
   "source": [
    "#Autoencoder network\n",
    "input_dim = X_train_transformed_PCA.shape[1]\n",
    "BATCH_SIZE = 256\n",
    "EPOCHS = 100\n",
    "autoencoder = tf.keras.models.Sequential([\n",
    "    \n",
    "    # deconstruct / encode\n",
    "    tf.keras.layers.Dense(input_dim, activation='relu', input_shape=(input_dim, )), \n",
    "    tf.keras.layers.Dense(8, activation='relu'),\n",
    "    tf.keras.layers.Dense(16, activation='relu'),\n",
    "    tf.keras.layers.Dense(32, activation='relu'),\n",
    "    tf.keras.layers.Dense(32, activation='relu'),\n",
    "    \n",
    "    # reconstruction / decode\n",
    "    tf.keras.layers.Dense(32, activation='relu'),\n",
    "    tf.keras.layers.Dense(16, activation='relu'),\n",
    "    tf.keras.layers.Dense(8, activation='relu'),\n",
    "    tf.keras.layers.Dense(input_dim, activation='relu')\n",
    "    \n",
    "])\n",
    "autoencoder.compile(optimizer=\"adam\", \n",
    "                    loss=\"mse\",\n",
    "                    metrics=[\"acc\"])\n",
    "#autoencoder.summary();"
   ]
  },
  {
   "cell_type": "code",
   "execution_count": 12,
   "id": "5a3e2ef5-77ce-4b96-8543-c600845d4ccd",
   "metadata": {},
   "outputs": [],
   "source": [
    "save_model_PCA = tf.keras.callbacks.ModelCheckpoint(\n",
    "    filepath='saved_model/autoencoder_best_weights_PCA.keras',\n",
    "    save_best_only=True,\n",
    "    monitor='val_loss',\n",
    "    verbose=1,\n",
    "    mode='min'\n",
    ")\n",
    "\n",
    "# callbacks argument only takes a list\n",
    "cb_PCA = [early_stop, save_model_PCA]"
   ]
  },
  {
   "cell_type": "code",
   "execution_count": 13,
   "id": "41bcb9a4-3942-44c9-a5a1-16b3338ae845",
   "metadata": {},
   "outputs": [
    {
     "name": "stdout",
     "output_type": "stream",
     "text": [
      "Epoch 1/100\n",
      "\u001b[1m4307/4330\u001b[0m \u001b[32m━━━━━━━━━━━━━━━━━━━\u001b[0m\u001b[37m━\u001b[0m \u001b[1m0s\u001b[0m 985us/step - acc: 0.5500 - loss: 0.1691\n",
      "Epoch 1: val_loss improved from inf to 0.19475, saving model to saved_model/autoencoder_best_weights_PCA.keras\n",
      "\u001b[1m4330/4330\u001b[0m \u001b[32m━━━━━━━━━━━━━━━━━━━━\u001b[0m\u001b[37m\u001b[0m \u001b[1m7s\u001b[0m 1ms/step - acc: 0.5504 - loss: 0.1690 - val_acc: 0.4334 - val_loss: 0.1947\n",
      "Epoch 2/100\n",
      "\u001b[1m4289/4330\u001b[0m \u001b[32m━━━━━━━━━━━━━━━━━━━\u001b[0m\u001b[37m━\u001b[0m \u001b[1m0s\u001b[0m 1ms/step - acc: 0.6595 - loss: 0.1422\n",
      "Epoch 2: val_loss did not improve from 0.19475\n",
      "\u001b[1m4330/4330\u001b[0m \u001b[32m━━━━━━━━━━━━━━━━━━━━\u001b[0m\u001b[37m\u001b[0m \u001b[1m5s\u001b[0m 1ms/step - acc: 0.6595 - loss: 0.1422 - val_acc: 0.3815 - val_loss: 0.2269\n",
      "Epoch 3/100\n",
      "\u001b[1m4289/4330\u001b[0m \u001b[32m━━━━━━━━━━━━━━━━━━━\u001b[0m\u001b[37m━\u001b[0m \u001b[1m0s\u001b[0m 919us/step - acc: 0.6720 - loss: 0.1405\n",
      "Epoch 3: val_loss did not improve from 0.19475\n",
      "\u001b[1m4330/4330\u001b[0m \u001b[32m━━━━━━━━━━━━━━━━━━━━\u001b[0m\u001b[37m\u001b[0m \u001b[1m5s\u001b[0m 1ms/step - acc: 0.6720 - loss: 0.1405 - val_acc: 0.3999 - val_loss: 0.2261\n",
      "Epoch 4/100\n",
      "\u001b[1m4287/4330\u001b[0m \u001b[32m━━━━━━━━━━━━━━━━━━━\u001b[0m\u001b[37m━\u001b[0m \u001b[1m0s\u001b[0m 1ms/step - acc: 0.6730 - loss: 0.1404\n",
      "Epoch 4: val_loss did not improve from 0.19475\n",
      "\u001b[1m4330/4330\u001b[0m \u001b[32m━━━━━━━━━━━━━━━━━━━━\u001b[0m\u001b[37m\u001b[0m \u001b[1m5s\u001b[0m 1ms/step - acc: 0.6730 - loss: 0.1404 - val_acc: 0.4010 - val_loss: 0.2275\n",
      "Epoch 5/100\n",
      "\u001b[1m4288/4330\u001b[0m \u001b[32m━━━━━━━━━━━━━━━━━━━\u001b[0m\u001b[37m━\u001b[0m \u001b[1m0s\u001b[0m 978us/step - acc: 0.6752 - loss: 0.1405\n",
      "Epoch 5: val_loss did not improve from 0.19475\n",
      "\u001b[1m4330/4330\u001b[0m \u001b[32m━━━━━━━━━━━━━━━━━━━━\u001b[0m\u001b[37m\u001b[0m \u001b[1m5s\u001b[0m 1ms/step - acc: 0.6752 - loss: 0.1405 - val_acc: 0.3959 - val_loss: 0.2289\n",
      "Epoch 6/100\n",
      "\u001b[1m4305/4330\u001b[0m \u001b[32m━━━━━━━━━━━━━━━━━━━\u001b[0m\u001b[37m━\u001b[0m \u001b[1m0s\u001b[0m 998us/step - acc: 0.6753 - loss: 0.1404\n",
      "Epoch 6: val_loss did not improve from 0.19475\n",
      "\u001b[1m4330/4330\u001b[0m \u001b[32m━━━━━━━━━━━━━━━━━━━━\u001b[0m\u001b[37m\u001b[0m \u001b[1m5s\u001b[0m 1ms/step - acc: 0.6753 - loss: 0.1404 - val_acc: 0.4170 - val_loss: 0.2279\n",
      "Epoch 7/100\n",
      "\u001b[1m4283/4330\u001b[0m \u001b[32m━━━━━━━━━━━━━━━━━━━\u001b[0m\u001b[37m━\u001b[0m \u001b[1m0s\u001b[0m 979us/step - acc: 0.6752 - loss: 0.1404\n",
      "Epoch 7: val_loss did not improve from 0.19475\n",
      "\u001b[1m4330/4330\u001b[0m \u001b[32m━━━━━━━━━━━━━━━━━━━━\u001b[0m\u001b[37m\u001b[0m \u001b[1m5s\u001b[0m 1ms/step - acc: 0.6752 - loss: 0.1404 - val_acc: 0.4176 - val_loss: 0.2271\n",
      "Epoch 8/100\n",
      "\u001b[1m4316/4330\u001b[0m \u001b[32m━━━━━━━━━━━━━━━━━━━\u001b[0m\u001b[37m━\u001b[0m \u001b[1m0s\u001b[0m 1ms/step - acc: 0.6756 - loss: 0.1404\n",
      "Epoch 8: val_loss did not improve from 0.19475\n",
      "\u001b[1m4330/4330\u001b[0m \u001b[32m━━━━━━━━━━━━━━━━━━━━\u001b[0m\u001b[37m\u001b[0m \u001b[1m5s\u001b[0m 1ms/step - acc: 0.6756 - loss: 0.1404 - val_acc: 0.4206 - val_loss: 0.2239\n",
      "Epoch 9/100\n",
      "\u001b[1m4330/4330\u001b[0m \u001b[32m━━━━━━━━━━━━━━━━━━━━\u001b[0m\u001b[37m\u001b[0m \u001b[1m0s\u001b[0m 992us/step - acc: 0.6756 - loss: 0.1405\n",
      "Epoch 9: val_loss did not improve from 0.19475\n",
      "\u001b[1m4330/4330\u001b[0m \u001b[32m━━━━━━━━━━━━━━━━━━━━\u001b[0m\u001b[37m\u001b[0m \u001b[1m5s\u001b[0m 1ms/step - acc: 0.6756 - loss: 0.1405 - val_acc: 0.4189 - val_loss: 0.2249\n",
      "Epoch 10/100\n",
      "\u001b[1m4287/4330\u001b[0m \u001b[32m━━━━━━━━━━━━━━━━━━━\u001b[0m\u001b[37m━\u001b[0m \u001b[1m0s\u001b[0m 966us/step - acc: 0.6761 - loss: 0.1404\n",
      "Epoch 10: val_loss did not improve from 0.19475\n",
      "\u001b[1m4330/4330\u001b[0m \u001b[32m━━━━━━━━━━━━━━━━━━━━\u001b[0m\u001b[37m\u001b[0m \u001b[1m5s\u001b[0m 1ms/step - acc: 0.6761 - loss: 0.1404 - val_acc: 0.3915 - val_loss: 0.2177\n",
      "Epoch 10: early stopping\n",
      "Restoring model weights from the end of the best epoch: 1.\n"
     ]
    }
   ],
   "source": [
    "history = autoencoder.fit(\n",
    "    X_train_transformed_PCA, X_train_transformed_PCA,\n",
    "    shuffle=True,\n",
    "    epochs=EPOCHS,\n",
    "    batch_size=BATCH_SIZE,\n",
    "    callbacks=cb_PCA,\n",
    "    validation_data=(X_validate_transformed_PCA, X_validate_transformed_PCA)\n",
    ");"
   ]
  },
  {
   "cell_type": "code",
   "execution_count": null,
   "id": "43616038-bc40-4836-9262-f1be31abc78a",
   "metadata": {},
   "outputs": [],
   "source": []
  }
 ],
 "metadata": {
  "kernelspec": {
   "display_name": "Python 3 (ipykernel)",
   "language": "python",
   "name": "python3"
  },
  "language_info": {
   "codemirror_mode": {
    "name": "ipython",
    "version": 3
   },
   "file_extension": ".py",
   "mimetype": "text/x-python",
   "name": "python",
   "nbconvert_exporter": "python",
   "pygments_lexer": "ipython3",
   "version": "3.11.4"
  }
 },
 "nbformat": 4,
 "nbformat_minor": 5
}
