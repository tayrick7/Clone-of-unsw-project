{
 "cells": [
  {
   "cell_type": "code",
   "execution_count": 1,
   "id": "0f307906-4ace-4ca9-a121-99ef85401ec5",
   "metadata": {},
   "outputs": [],
   "source": [
    "import numpy as np \n",
    "import pandas as pd\n",
    "import os\n",
    "from sklearn.ensemble import IsolationForest\n",
    "from sklearn.model_selection import train_test_split\n",
    "from sklearn.metrics import confusion_matrix,ConfusionMatrixDisplay,classification_report,make_scorer, f1_score\n",
    "from sklearn.utils import resample\n",
    "import matplotlib.pyplot as plt\n",
    "from datetime import datetime\n",
    "from sklearn import model_selection\n",
    "from joblib import dump, load\n",
    "import mlflow.sklearn\n",
    "import mlflow\n",
    "import pymysql\n",
    "from mlflow.models import infer_signature\n",
    "from mlflow.tracking import MlflowClient\n",
    "from result_display import show_result,export_anomaly\n",
    "from reject_anomalies import pred_baseon_threshold,make_use_reject_anomalies\n",
    "from Feature_engineer import remove_unwanted_col,feature_engineer_steps"
   ]
  },
  {
   "cell_type": "code",
   "execution_count": 61,
   "id": "00c60a05-7b45-493e-9c2b-29ad9f5598f7",
   "metadata": {},
   "outputs": [],
   "source": [
    "transactions_df = pd.read_csv(\"data/transactions_df.csv\")\n",
    "terminal_profiles_df = pd.read_csv(\"data/terminal_profiles_table.csv\")\n",
    "customer_profiles_df = pd.read_csv(\"data/customer_profiles_table.csv\")\n",
    "join_terminal = pd.merge(transactions_df, terminal_profiles_df, on='terminal_id', how='inner') #join dataset base on key value\n",
    "join_customer = pd.merge(join_terminal, customer_profiles_df, on='customer_id', how='inner')\n"
   ]
  },
  {
   "cell_type": "code",
   "execution_count": 201,
   "id": "e2a2133f-c081-475a-a2ac-5a78d1338727",
   "metadata": {},
   "outputs": [
    {
     "name": "stdout",
     "output_type": "stream",
     "text": [
      "['transaction_id', 'post_ts', 'customer_id', 'bin_x', 'terminal_id', 'amt', 'entry_mode', 'fraud', 'fraud_scenario', 'lat_terminal', 'log_terminal', 'mcc', 'mean_amount', 'std_amount', 'mean_nb_tx_per_day', 'network_id', 'bin_y', 'lat_customer', 'log_customer', 'available_terminals', 'nb_terminals', 'location_different', 'using_available_terminals', 'timestamp', 'date', 'per_day_difference_count', 'mean_difference', 'timestamp_numeric']\n"
     ]
    }
   ],
   "source": [
    "print(join_customer.columns.tolist())"
   ]
  },
  {
   "cell_type": "code",
   "execution_count": 137,
   "id": "ffa0a36b-b0b4-4b50-b27c-c8932c5aaddd",
   "metadata": {},
   "outputs": [],
   "source": [
    "#creating sample file for client demo purpose\n",
    "samle_file = transactions_df.sample(n=100, random_state=42)\n",
    "samle_file.to_csv('data/user_demo_data.csv', index=False)"
   ]
  },
  {
   "cell_type": "code",
   "execution_count": 63,
   "id": "f39fd06d-4ba1-4db9-b4e3-64e2cf10c359",
   "metadata": {},
   "outputs": [],
   "source": [
    "# Feature engineer step and one-hot enconding for categorical feature. \n",
    "# Stored in Feature_engineer.py\n",
    "train_X,train_y = feature_engineer_steps(join_customer)"
   ]
  },
  {
   "cell_type": "code",
   "execution_count": 202,
   "id": "79688ccd-4158-4bd6-85a1-d03a428c7314",
   "metadata": {},
   "outputs": [
    {
     "name": "stdout",
     "output_type": "stream",
     "text": [
      "['amt', 'lat_terminal', 'log_terminal', 'mean_amount', 'std_amount', 'mean_nb_tx_per_day', 'lat_customer', 'log_customer', 'nb_terminals', 'location_different', 'per_day_difference_count', 'mean_difference', 'timestamp_numeric', 'entry_mode_Chip', 'entry_mode_Contactless', 'entry_mode_Swipe', 'network_id_A', 'network_id_D', 'network_id_M', 'network_id_V']\n"
     ]
    }
   ],
   "source": [
    "print(train_X.columns.tolist())"
   ]
  },
  {
   "cell_type": "code",
   "execution_count": 67,
   "id": "38ba96fb-8eac-4e67-9da9-b87e6bc94506",
   "metadata": {},
   "outputs": [],
   "source": [
    "train_X = remove_unwanted_col(train_X)\n"
   ]
  },
  {
   "cell_type": "code",
   "execution_count": 68,
   "id": "ae4062f2-a5e7-4363-8085-cfff5f670e19",
   "metadata": {},
   "outputs": [],
   "source": [
    "X_train, X_test, y_train, y_test = train_test_split(train_X, train_y,test_size=0.05, random_state=42)"
   ]
  },
  {
   "cell_type": "code",
   "execution_count": 70,
   "id": "be503c17-9880-4dd8-a5ac-d6700f0f7ed7",
   "metadata": {},
   "outputs": [
    {
     "name": "stdout",
     "output_type": "stream",
     "text": [
      "0.014578441434613334\n",
      "{'bootstrap': True, 'max_features': 9}\n"
     ]
    }
   ],
   "source": [
    "# Train model using grid seach for best model, very time consuming. \n",
    "#Use two sections below for usual function testing.\n",
    "contamination_rate = 0.15 #default contamination rate 15% of data are anomalies\n",
    "clf = IsolationForest(contamination=contamination_rate,random_state=42)\n",
    "\n",
    "param_grid = {#'n_estimators': list(range(100, 300, 100)), #number of decision trees\n",
    "              #'contamination': [0.3,0.1,0.05], #percentage of anomalies\n",
    "              'max_features': [5,7,9,12], \n",
    "              'bootstrap': [True]}\n",
    "f1sc = make_scorer(f1_score, average='macro') #using macro_avg_f1 as score\n",
    "grid_dt_estimator = model_selection.GridSearchCV(clf, \n",
    "                                                 param_grid,\n",
    "                                                 scoring=f1sc, \n",
    "                                                 refit=True,\n",
    "                                                 cv=5, \n",
    "                                                 return_train_score=True)\n",
    "grid_dt_estimator.fit(X_train, y_train)\n",
    "dump(grid_dt_estimator.best_estimator_, 'saved_model/best_model.joblib')\n",
    "#print(grid_dt_estimator.best_score_)\n",
    "#print(grid_dt_estimator.best_params_)"
   ]
  },
  {
   "cell_type": "code",
   "execution_count": 192,
   "id": "16066886-cff9-4cbf-a1c5-efec855a4ee2",
   "metadata": {},
   "outputs": [],
   "source": [
    "best_model = load('saved_model/best_model.joblib')\n",
    "y_pred = best_model.predict(X_test)\n",
    "y_pred[y_pred == -1] = 0\n",
    "anomalies = X_test[y_pred == 0]\n",
    "anomalies_index = anomalies.index\n",
    "\n"
   ]
  },
  {
   "cell_type": "code",
   "execution_count": 184,
   "id": "ad025a8d-20df-4658-b15a-167e58270bfa",
   "metadata": {},
   "outputs": [],
   "source": [
    "train_scores = best_model.decision_function(X_train)\n",
    "train_threshold = np.percentile(train_scores, 15) #auto in scikit learn v0.22 and later has 0.5% contamination set\n",
    "y_pred = pred_baseon_threshold(best_model, X_test, train_threshold)\n",
    "adjusted_threshold = make_use_reject_anomalies(best_model, X_test, [1,3,5,6], 0.005,train_threshold)\n"
   ]
  },
  {
   "cell_type": "code",
   "execution_count": 185,
   "id": "95fe345f-4a36-45c1-9703-d6a60bbff2f6",
   "metadata": {},
   "outputs": [
    {
     "data": {
      "image/png": "[encoded data removed]",
      "text/plain": [
       "<Figure size 640x480 with 2 Axes>"
      ]
     },
     "metadata": {},
     "output_type": "display_data"
    }
   ],
   "source": [
    "precision, recall, f1_socre = show_result(y_test,y_pred)\n",
    "metrics = {\"precision\": precision, \"recall\": recall, \"f1_socre\": f1_socre,\"train_threshold\":train_threshold}\n",
    "params = best_model.get_params()"
   ]
  },
  {
   "cell_type": "markdown",
   "id": "fb3b6f3d-be1b-48d8-a4b7-7a58191f5367",
   "metadata": {},
   "source": [
    "***Mlflow related code***"
   ]
  },
  {
   "cell_type": "code",
   "execution_count": 124,
   "id": "e033cef9-263e-4740-bff3-5b7e5c34cafe",
   "metadata": {},
   "outputs": [
    {
     "name": "stdout",
     "output_type": "stream",
     "text": [
      "12\n"
     ]
    }
   ],
   "source": [
    "# create experiment\n",
    "experiment_id = mlflow.create_experiment(\n",
    "        name=\"IF_mlflow\",\n",
    "        artifact_location=\"IF_mlflow_artifacts\",\n",
    "        tags={\"env\": \"dev\", \"version\": \"1.0.0\"},\n",
    "    )\n"
   ]
  },
  {
   "cell_type": "code",
   "execution_count": 194,
   "id": "a19a1404-ad77-4587-a4a6-74a8fb273568",
   "metadata": {},
   "outputs": [],
   "source": [
    "#listening to port\n",
    "mlflow.set_tracking_uri(\"http://127.0.0.1:8080\")"
   ]
  },
  {
   "cell_type": "code",
   "execution_count": 200,
   "id": "341f56f4-eb81-4c9b-a0bb-9a20f86c9c8b",
   "metadata": {},
   "outputs": [
    {
     "name": "stderr",
     "output_type": "stream",
     "text": [
      "C:\\Users\\Leonwu\\AppData\\Local\\Programs\\Python\\Python311\\Lib\\site-packages\\_distutils_hack\\__init__.py:18: UserWarning: Distutils was imported before Setuptools, but importing Setuptools also replaces the `distutils` module in `sys.modules`. This may lead to undesirable behaviors or errors. To avoid these issues, avoid using distutils directly, ensure that setuptools is installed in the traditional way (e.g. not an editable install), and/or make sure that setuptools is always imported before distutils.\n",
      "  warnings.warn(\n",
      "C:\\Users\\Leonwu\\AppData\\Local\\Programs\\Python\\Python311\\Lib\\site-packages\\_distutils_hack\\__init__.py:33: UserWarning: Setuptools is replacing distutils.\n",
      "  warnings.warn(\"Setuptools is replacing distutils.\")\n"
     ]
    }
   ],
   "source": [
    "# log model into mlflow\n",
    "run_name = \"IF_test\"\n",
    "artifact_path = \"artifact_location\"\n",
    "\n",
    "# Initiate the MLflow run context\n",
    "with mlflow.start_run(run_name=\"IF_Model_train\") as run:\n",
    "    # Log the parameters used for the model fit\n",
    "    mlflow.log_params(params)\n",
    "    mlflow.log_artifact(local_path = \"Feature_engineer.py\")\n",
    "    mlflow.log_metrics(metrics)\n",
    "    mlflow.log_artifact(\"confusion_matrix.png\")\n",
    "    # Log an instance of the trained model for later use\n",
    "    model_info = mlflow.sklearn.log_model(sk_model=best_model, artifact_path=\"artifact_location\",input_example=X_train,signature = infer_signature(X_test, y_test))\n"
   ]
  },
  {
   "cell_type": "code",
   "execution_count": 138,
   "id": "4fdcda9e-86b3-4e50-a161-8f6f2d61581c",
   "metadata": {},
   "outputs": [],
   "source": [
    "\n",
    "demo_test_sample = pd.read_csv(\"data/user_demo_data.csv\")\n",
    "demo_test_sample = pd.merge(demo_test_sample, terminal_profiles_df, on='terminal_id', how='inner') #join dataset base on key value\n",
    "demo_test_sample = pd.merge(demo_test_sample, customer_profiles_df, on='customer_id', how='inner')\n",
    "demo_test_X,demo_test_y = feature_engineer_steps(demo_test_sample)\n",
    "demo_test_X = remove_unwanted_col(demo_test_X)\n"
   ]
  },
  {
   "cell_type": "markdown",
   "id": "f6553a64-ba3e-44d8-9dde-5b0069a152b4",
   "metadata": {},
   "source": [
    "**Client runs**\n"
   ]
  },
  {
   "cell_type": "code",
   "execution_count": 175,
   "id": "6206566d-076f-4652-875e-e9d74bf45506",
   "metadata": {},
   "outputs": [
    {
     "data": {
      "application/vnd.jupyter.widget-view+json": {
       "model_id": "9c0149e46ae34a1b9e264deda9a16d2f",
       "version_major": 2,
       "version_minor": 0
      },
      "text/plain": [
       "Downloading artifacts:   0%|          | 0/6 [00:00<?, ?it/s]"
      ]
     },
     "metadata": {},
     "output_type": "display_data"
    }
   ],
   "source": [
    "# client retrive model from mlflow and make prediction on new data.\n",
    "client = MlflowClient()\n",
    "runs = client.search_runs(experiment_ids=605746754345623583, order_by=[\"start_time DESC\"], max_results=1)\n",
    "\n",
    "if runs:\n",
    "    most_recent_run = runs[0]\n",
    "    run_id = most_recent_run.info.run_id\n",
    "    artifact_path = \"artifact_location\"\n",
    "    model_uri = f\"runs:/03a09e9b04e5461ca5d0675668b8d102/artifact_location\"\n",
    "    model = mlflow.sklearn.load_model(model_uri)\n",
    "    train_threshold = most_recent_run.data.metrics[\"train_threshold\"]\n",
    "    #print(f\"Metrics: {most_recent_run.data.metrics}\")\n",
    "else:\n",
    "    print(\"No runs found.\")"
   ]
  },
  {
   "cell_type": "code",
   "execution_count": 170,
   "id": "6a083a46-b9d2-44d9-8f1b-64a017c92732",
   "metadata": {},
   "outputs": [
    {
     "name": "stderr",
     "output_type": "stream",
     "text": [
      "C:\\Users\\Leonwu\\AppData\\Local\\Programs\\Python\\Python311\\Lib\\site-packages\\mlflow\\types\\utils.py:393: UserWarning: Hint: Inferred schema contains integer column(s). Integer columns in Python cannot represent missing values. If your input data contains missing values at inference time, it will be encoded as floats and will cause a schema enforcement error. The best way to avoid this problem is to infer the model schema based on a realistic data sample (training dataset) that includes missing values. Alternatively, you can declare integer columns as doubles (float64) whenever these columns may have missing values. See `Handling Integers With Missing Values <https://www.mlflow.org/docs/latest/models.html#handling-integers-with-missing-values>`_ for more details.\n",
      "  warnings.warn(\n",
      "C:\\Users\\Leonwu\\AppData\\Local\\Programs\\Python\\Python311\\Lib\\site-packages\\_distutils_hack\\__init__.py:18: UserWarning: Distutils was imported before Setuptools, but importing Setuptools also replaces the `distutils` module in `sys.modules`. This may lead to undesirable behaviors or errors. To avoid these issues, avoid using distutils directly, ensure that setuptools is installed in the traditional way (e.g. not an editable install), and/or make sure that setuptools is always imported before distutils.\n",
      "  warnings.warn(\n",
      "C:\\Users\\Leonwu\\AppData\\Local\\Programs\\Python\\Python311\\Lib\\site-packages\\_distutils_hack\\__init__.py:33: UserWarning: Setuptools is replacing distutils.\n",
      "  warnings.warn(\"Setuptools is replacing distutils.\")\n"
     ]
    },
    {
     "data": {
      "image/png": "[encoded data removed]",
      "text/plain": [
       "<Figure size 640x480 with 2 Axes>"
      ]
     },
     "metadata": {},
     "output_type": "display_data"
    }
   ],
   "source": [
    "#log client run result into mlflow\n",
    "with mlflow.start_run(run_name=\"IF_sample_test\") as run:\n",
    "    mlflow.log_params(params)\n",
    "    mlflow.log_artifact(\"Feature_engineer.py\")\n",
    "    demo_pred_y = pred_baseon_threshold(model, demo_test_X, train_threshold)\n",
    "    precision, recall, f1_socre = show_result(demo_test_y,demo_pred_y)\n",
    "    metrics = {\"precision\": precision, \"recall\": recall, \"f1_socre\": f1_socre,\"train_threshold\":train_threshold}\n",
    "    mlflow.log_metrics(metrics)\n",
    "    mlflow.log_artifact(\"confusion_matrix.png\")\n",
    "    mlflow.sklearn.log_model(sk_model=best_model, artifact_path=artifact_path,signature = infer_signature(X_test, y_test),)\n",
    "  "
   ]
  },
  {
   "cell_type": "code",
   "execution_count": 182,
   "id": "2a121100-80c3-43bc-9ac2-589715eb4af0",
   "metadata": {},
   "outputs": [],
   "source": [
    "#Export anmalies in client data\n",
    "\"\"\"\n",
    "print(demo_pred_y)\n",
    "export_anomaly(demo_test_X,demo_pred_y)\n",
    "\"\"\""
   ]
  },
  {
   "cell_type": "markdown",
   "id": "58338ed9-5f22-4d16-b257-71168798cedc",
   "metadata": {},
   "source": [
    "**Influencing prediction result using rejected anomalies**\n"
   ]
  },
  {
   "cell_type": "code",
   "execution_count": 173,
   "id": "6219e70f-4719-4811-b000-70535a46c1c2",
   "metadata": {},
   "outputs": [
    {
     "data": {
      "application/vnd.jupyter.widget-view+json": {
       "model_id": "fefed144101e4e768c1efef30373d86a",
       "version_major": 2,
       "version_minor": 0
      },
      "text/plain": [
       "Downloading artifacts:   0%|          | 0/6 [00:00<?, ?it/s]"
      ]
     },
     "metadata": {},
     "output_type": "display_data"
    }
   ],
   "source": [
    "# retrieve model from mlflow\n",
    "client = MlflowClient()\n",
    "runs = client.search_runs(experiment_ids=605746754345623583, order_by=[\"start_time DESC\"], max_results=1)\n",
    "\n",
    "if runs:\n",
    "    most_recent_run = runs[0]\n",
    "    run_id = most_recent_run.info.run_id\n",
    "    artifact_path = \"artifact_location\"\n",
    "    model_uri = f\"runs:/03a09e9b04e5461ca5d0675668b8d102/artifact_location\"\n",
    "    model = mlflow.sklearn.load_model(model_uri)\n",
    "    train_threshold = most_recent_run.data.metrics[\"train_threshold\"]\n",
    "    #print(f\"Metrics: {most_recent_run.data.metrics}\")\n",
    "else:\n",
    "    print(\"No runs found.\")"
   ]
  },
  {
   "cell_type": "code",
   "execution_count": 174,
   "id": "b0570675-8684-41eb-896c-0a3ed3f698ba",
   "metadata": {},
   "outputs": [
    {
     "name": "stderr",
     "output_type": "stream",
     "text": [
      "C:\\Users\\Leonwu\\AppData\\Local\\Programs\\Python\\Python311\\Lib\\site-packages\\mlflow\\types\\utils.py:393: UserWarning: Hint: Inferred schema contains integer column(s). Integer columns in Python cannot represent missing values. If your input data contains missing values at inference time, it will be encoded as floats and will cause a schema enforcement error. The best way to avoid this problem is to infer the model schema based on a realistic data sample (training dataset) that includes missing values. Alternatively, you can declare integer columns as doubles (float64) whenever these columns may have missing values. See `Handling Integers With Missing Values <https://www.mlflow.org/docs/latest/models.html#handling-integers-with-missing-values>`_ for more details.\n",
      "  warnings.warn(\n",
      "C:\\Users\\Leonwu\\AppData\\Local\\Programs\\Python\\Python311\\Lib\\site-packages\\_distutils_hack\\__init__.py:18: UserWarning: Distutils was imported before Setuptools, but importing Setuptools also replaces the `distutils` module in `sys.modules`. This may lead to undesirable behaviors or errors. To avoid these issues, avoid using distutils directly, ensure that setuptools is installed in the traditional way (e.g. not an editable install), and/or make sure that setuptools is always imported before distutils.\n",
      "  warnings.warn(\n",
      "C:\\Users\\Leonwu\\AppData\\Local\\Programs\\Python\\Python311\\Lib\\site-packages\\_distutils_hack\\__init__.py:33: UserWarning: Setuptools is replacing distutils.\n",
      "  warnings.warn(\"Setuptools is replacing distutils.\")\n"
     ]
    },
    {
     "data": {
      "image/png": "[encoded data removed]",
      "text/plain": [
       "<Figure size 640x480 with 2 Axes>"
      ]
     },
     "metadata": {},
     "output_type": "display_data"
    }
   ],
   "source": [
    "# update model threashold and then make predicition. Finally log result back to mlflow\n",
    "with mlflow.start_run(run_name=\"IF_reject_anomaly\") as run:\n",
    "    mlflow.log_params(params)\n",
    "    #assume anomalies 1,3,5,6 are rejected\n",
    "    adjusted_threshold = make_use_reject_anomalies(model, demo_test_X, [1,3,5,6], 0.005,train_threshold)\n",
    "    demo_pred_y = pred_baseon_threshold(model, demo_test_X, adjusted_threshold)\n",
    "    precision, recall, f1_socre = show_result(demo_test_y,demo_pred_y)\n",
    "    metrics = {\"precision\": precision, \"recall\": recall, \"f1_socre\": f1_socre,\"train_threshold\":adjusted_threshold}\n",
    "    mlflow.log_metrics(metrics)\n",
    "    mlflow.log_artifact(\"confusion_matrix.png\")\n",
    "    mlflow.sklearn.log_model(sk_model=best_model, artifact_path=artifact_path,signature = infer_signature(X_test, y_test),)\n",
    "  "
   ]
  }
 ],
 "metadata": {
  "kernelspec": {
   "display_name": "Python 3 (ipykernel)",
   "language": "python",
   "name": "python3"
  },
  "language_info": {
   "codemirror_mode": {
    "name": "ipython",
    "version": 3
   },
   "file_extension": ".py",
   "mimetype": "text/x-python",
   "name": "python",
   "nbconvert_exporter": "python",
   "pygments_lexer": "ipython3",
   "version": "3.11.4"
  }
 },
 "nbformat": 4,
 "nbformat_minor": 5
}
