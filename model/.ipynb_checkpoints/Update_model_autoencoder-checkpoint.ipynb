{
 "cells": [
  {
   "cell_type": "code",
   "execution_count": 9,
   "id": "3cee9b27-44d4-4d83-831f-54b10fd9d639",
   "metadata": {},
   "outputs": [],
   "source": [
    "import mlflow\n",
    "import glob\n",
    "import pandas as pd\n",
    "import os\n",
    "import numpy as np\n",
    "from mlflow.entities import ViewType\n",
    "from mlflow.tracking import MlflowClient\n",
    "from reject_anomalies import pred_baseon_threshold,make_use_reject_anomalies\n",
    "from Data_preprocessing_method import apply_PCA\n",
    "from Feature_engineer import remove_unwanted_col_autoencoder,feature_engineer_steps\n",
    "from result_display import show_result\n",
    "from AutoEncoder_util import convert_type, transform_data, mad_score\n",
    "import mlflow.tensorflow"
   ]
  },
  {
   "cell_type": "code",
   "execution_count": 10,
   "id": "7d5ea380-6dd5-4774-b192-567da023fef5",
   "metadata": {},
   "outputs": [],
   "source": [
    "def search_newest_model(experiment_name,run_name):\n",
    "    mlflow.set_tracking_uri(\"http://127.0.0.1:8080\")\n",
    "    experiment = mlflow.get_experiment_by_name(experiment_name)\n",
    "    \n",
    "    if experiment:\n",
    "        experiment_id = experiment.experiment_id\n",
    "        \n",
    "    else:\n",
    "        raise ValueError(f\"Experiment named {experiment_name} not found\")\n",
    "\n",
    "\n",
    "\n",
    "    runs = mlflow.search_runs(experiment_ids=[experiment_id])\n",
    "    #print(runs['tags.mlflow.runName'])\n",
    "    filtered_runs = runs[(runs['tags.mlflow.runName'] == run_name) & (runs.status == 'FINISHED') ]\n",
    "\n",
    "    if filtered_runs.empty:\n",
    "        raise ValueError(f\"No runs with name {run_name} found in experiment {experiment_name}\")\n",
    "    return filtered_runs.iloc[0]"
   ]
  },
  {
   "cell_type": "code",
   "execution_count": 11,
   "id": "af57fa7b-f694-49da-a06b-ff16063c94b5",
   "metadata": {},
   "outputs": [],
   "source": [
    "def update_model(model_information,rejected_list_path):\n",
    "    anomalies = pd.read_csv(rejected_list_path)\n",
    "    experiment_ids = model_information['experiment_id']\n",
    "    client = MlflowClient()\n",
    "    runs = client.search_runs(experiment_ids=experiment_ids)\n",
    "    sensitivity = 0.005\n",
    "    if runs:\n",
    "        run_id = model_information['run_id']\n",
    "        current_run = client.get_run(run_id)\n",
    "        artifact_path = model_information['artifact_uri']       \n",
    "        model_uri = f\"{artifact_path}/mlruns\"\n",
    "        model = mlflow.tensorflow.load_model(model_uri)\n",
    "        THRESHOLD = model_information['params.threshold']\n",
    "        print(model)\n",
    "        anomalies = convert_type(anomalies)\n",
    "        anomalies = transform_data(anomalies)\n",
    "        anomalies = apply_PCA(anomalies,7)\n",
    "        model.fit(anomalies, anomalies, epochs=1, batch_size=8)\n",
    "        \n",
    "        with mlflow.start_run(experiment_id=experiment_ids,run_name=model_information['tags.mlflow.runName']) as run:\n",
    "        # Log the parameters used for the model fit\n",
    "            mlflow.log_param(\"batch_size\", \"256\")\n",
    "            mlflow.log_param(\"optimizer\", \"adam\")\n",
    "            mlflow.log_param(\"loss\", \"mse\")\n",
    "            mlflow.log_param(\"EPOCHS\", 100)\n",
    "            mlflow.log_param(\"activation_function\", \"relu\")\n",
    "            mlflow.log_param(\"num_layers\", 9)\n",
    "            mlflow.log_param(\"threshold\", THRESHOLD)\n",
    "            mlflow.log_param(\"PCA_sample\", 7)\n",
    "            mlflow.log_artifact(local_path = \"Feature_engineer.py\")\n",
    "\n",
    "            # Log an instance of the trained model for later use\n",
    "            model_info = mlflow.tensorflow.log_model(model, artifact_path=\"mlruns\", registered_model_name=\"AutoEncoder_PCA\")\n",
    "\n",
    "    else:\n",
    "        print(\"No runs found.\")"
   ]
  },
  {
   "cell_type": "markdown",
   "id": "60fd2ec0-4789-498f-8d92-01f846de27a3",
   "metadata": {},
   "source": [
    "## Demo of effect of retrain on reject anomalies"
   ]
  },
  {
   "cell_type": "code",
   "execution_count": 12,
   "id": "0b81e013-73c5-4f58-9336-3ce9f3f5654b",
   "metadata": {},
   "outputs": [],
   "source": [
    "transactions_df = pd.read_csv(\"data/user_demo_data.csv\")\n",
    "terminal_profiles_df = pd.read_csv(\"data/terminal_profiles_table.csv\")\n",
    "customer_profiles_df = pd.read_csv(\"data/customer_profiles_table.csv\")\n",
    "join_terminal = pd.merge(transactions_df, terminal_profiles_df, on='terminal_id', how='inner') #join dataset base on key value\n",
    "join_customer = pd.merge(join_terminal, customer_profiles_df, on='customer_id', how='inner')\n",
    "test_X,test_y = feature_engineer_steps(join_customer)\n",
    "test_X = remove_unwanted_col_autoencoder(test_X)\n",
    "\n",
    "test_X = convert_type(test_X)\n",
    "test_y = convert_type(test_y)\n",
    "test_X_transformed = transform_data(test_X)\n",
    "test_X_transformed_PCA = apply_PCA(test_X_transformed,7)"
   ]
  },
  {
   "cell_type": "code",
   "execution_count": 13,
   "id": "9f17a588-16ba-42c9-a42b-36a34599f858",
   "metadata": {},
   "outputs": [
    {
     "name": "stdout",
     "output_type": "stream",
     "text": [
      "run_id                                            d030d6726a15457d8ba9062f40182a69\n",
      "experiment_id                                                                    1\n",
      "status                                                                    FINISHED\n",
      "artifact_uri                     /mnt/c/Users/Leonwu/Desktop/Master_course/COMP...\n",
      "start_time                                        2024-04-16 18:26:57.459000+00:00\n",
      "end_time                                          2024-04-16 18:27:02.887000+00:00\n",
      "metrics.precision                                                         0.943879\n",
      "metrics.recall                                                              0.8043\n",
      "metrics.train_threshold                                                        1.3\n",
      "metrics.f1_socre                                                          0.866077\n",
      "params.optimizer                                                              adam\n",
      "params.PCA_sample                                                                7\n",
      "params.loss                                                                    mse\n",
      "params.threshold                                                               1.3\n",
      "params.num_layers                                                                9\n",
      "params.EPOCHS                                                                  100\n",
      "params.batch_size                                                              256\n",
      "params.activation_function                                                    relu\n",
      "tags.mlflow.source.type                                                      LOCAL\n",
      "tags.mlflow.log-model.history    [{\"run_id\": \"d030d6726a15457d8ba9062f40182a69\"...\n",
      "tags.mlflow.source.name          C:\\Users\\Leonwu\\AppData\\Local\\Programs\\Python\\...\n",
      "tags.mlflow.user                                                            Leonwu\n",
      "tags.mlflow.runName                                                AutoEncoder_PCA\n",
      "Name: 0, dtype: object\n",
      "\u001b[1m313/313\u001b[0m \u001b[32m━━━━━━━━━━━━━━━━━━━━\u001b[0m\u001b[37m\u001b[0m \u001b[1m0s\u001b[0m 865us/step\n",
      "Detected 1,791 outliers in a total of 10,000 transactions [17.91%].\n"
     ]
    },
    {
     "data": {
      "image/png": "[encoded data removed]",
      "text/plain": [
       "<Figure size 640x480 with 2 Axes>"
      ]
     },
     "metadata": {},
     "output_type": "display_data"
    }
   ],
   "source": [
    "model_info = search_newest_model(\"AutoEncoder_model\",\"AutoEncoder_PCA\")\n",
    "print(model_info)\n",
    "artifact_path = model_info['artifact_uri']       \n",
    "model_uri = f\"{artifact_path}/mlruns\"\n",
    "model = mlflow.tensorflow.load_model(model_uri)\n",
    "reconstructions = model.predict(test_X_transformed_PCA)\n",
    "mse = np.mean(np.power(test_X_transformed_PCA - reconstructions, 2), axis=1)\n",
    "THRESHOLD = model_info['params.threshold']\n",
    "z_scores = mad_score(mse)\n",
    "outliers_PCA = z_scores > float(THRESHOLD)\n",
    "print(f\"Detected {np.sum(outliers_PCA):,} outliers in a total of {np.size(z_scores):,} transactions [{np.sum(outliers_PCA)/np.size(z_scores):.2%}].\")\n",
    "precision_PCA, recall_PCA, f1_socre_PCA = show_result(test_y,outliers_PCA,\"result/confusion_matrix_autoencoder_PCA.png\")\n",
    "metrics_PCA = {\"precision\": precision_PCA, \"recall\": recall_PCA, \"f1_socre\": f1_socre_PCA,\"train_threshold\":THRESHOLD}"
   ]
  },
  {
   "cell_type": "code",
   "execution_count": 14,
   "id": "d827d597-af0d-476f-8a00-ce7278b4cecb",
   "metadata": {},
   "outputs": [
    {
     "name": "stdout",
     "output_type": "stream",
     "text": [
      "<Sequential name=sequential_3, built=True>\n",
      "\u001b[1m2/2\u001b[0m \u001b[32m━━━━━━━━━━━━━━━━━━━━\u001b[0m\u001b[37m\u001b[0m \u001b[1m1s\u001b[0m 4ms/step - acc: 0.3864 - loss: 1943364173824.0000\n"
     ]
    },
    {
     "name": "stderr",
     "output_type": "stream",
     "text": [
      "2024/04/17 04:27:48 WARNING mlflow.tensorflow: You are saving a TensorFlow Core model or Keras model without a signature. Inference with mlflow.pyfunc.spark_udf() will not work unless the model's pyfunc representation accepts pandas DataFrames as inference inputs.\n",
      "Registered model 'AutoEncoder_PCA' already exists. Creating a new version of this model...\n",
      "2024/04/17 04:27:52 INFO mlflow.store.model_registry.abstract_store: Waiting up to 300 seconds for model version to finish creation. Model name: AutoEncoder_PCA, version 37\n",
      "Created version '37' of model 'AutoEncoder_PCA'.\n"
     ]
    }
   ],
   "source": [
    "update_model(model_info,\"data/reject_anomalies_sample.csv\")"
   ]
  },
  {
   "cell_type": "code",
   "execution_count": 15,
   "id": "a2fe9ba4-73c2-4fbe-b7d9-4cdd21e67821",
   "metadata": {},
   "outputs": [
    {
     "name": "stdout",
     "output_type": "stream",
     "text": [
      "run_id                                            b332594dfaa94dd582d029a0e3275c2f\n",
      "experiment_id                                                                    1\n",
      "status                                                                    FINISHED\n",
      "artifact_uri                     /mnt/c/Users/Leonwu/Desktop/Master_course/COMP...\n",
      "start_time                                        2024-04-16 18:27:48.287000+00:00\n",
      "end_time                                          2024-04-16 18:27:52.500000+00:00\n",
      "metrics.precision                                                              NaN\n",
      "metrics.recall                                                                 NaN\n",
      "metrics.train_threshold                                                        NaN\n",
      "metrics.f1_socre                                                               NaN\n",
      "params.optimizer                                                              adam\n",
      "params.PCA_sample                                                                7\n",
      "params.loss                                                                    mse\n",
      "params.threshold                                                               1.3\n",
      "params.num_layers                                                                9\n",
      "params.EPOCHS                                                                  100\n",
      "params.batch_size                                                              256\n",
      "params.activation_function                                                    relu\n",
      "tags.mlflow.source.type                                                      LOCAL\n",
      "tags.mlflow.log-model.history    [{\"run_id\": \"b332594dfaa94dd582d029a0e3275c2f\"...\n",
      "tags.mlflow.source.name          C:\\Users\\Leonwu\\AppData\\Local\\Programs\\Python\\...\n",
      "tags.mlflow.user                                                            Leonwu\n",
      "tags.mlflow.runName                                                AutoEncoder_PCA\n",
      "Name: 0, dtype: object\n",
      "\u001b[1m313/313\u001b[0m \u001b[32m━━━━━━━━━━━━━━━━━━━━\u001b[0m\u001b[37m\u001b[0m \u001b[1m0s\u001b[0m 769us/step\n",
      "Detected 2,256 outliers in a total of 10,000 transactions [22.56%].\n"
     ]
    },
    {
     "data": {
      "image/png": "[encoded data removed]",
      "text/plain": [
       "<Figure size 640x480 with 2 Axes>"
      ]
     },
     "metadata": {},
     "output_type": "display_data"
    }
   ],
   "source": [
    "model_info = search_newest_model(\"AutoEncoder_model\",\"AutoEncoder_PCA\")\n",
    "print(model_info)\n",
    "artifact_path = model_info['artifact_uri']       \n",
    "model_uri = f\"{artifact_path}/mlruns\"\n",
    "model = mlflow.tensorflow.load_model(model_uri)\n",
    "reconstructions = model.predict(test_X_transformed_PCA)\n",
    "mse = np.mean(np.power(test_X_transformed_PCA - reconstructions, 2), axis=1)\n",
    "THRESHOLD = model_info['params.threshold']\n",
    "z_scores = mad_score(mse)\n",
    "outliers_PCA = z_scores > float(THRESHOLD)\n",
    "print(f\"Detected {np.sum(outliers_PCA):,} outliers in a total of {np.size(z_scores):,} transactions [{np.sum(outliers_PCA)/np.size(z_scores):.2%}].\")\n",
    "precision_PCA, recall_PCA, f1_socre_PCA = show_result(test_y,outliers_PCA,\"result/confusion_matrix_autoencoder_PCA.png\")\n",
    "metrics_PCA = {\"precision\": precision_PCA, \"recall\": recall_PCA, \"f1_socre\": f1_socre_PCA,\"train_threshold\":THRESHOLD}"
   ]
  },
  {
   "cell_type": "code",
   "execution_count": null,
   "id": "5984a30a-2d5b-4382-a8c5-52f8c56c439c",
   "metadata": {},
   "outputs": [],
   "source": []
  }
 ],
 "metadata": {
  "kernelspec": {
   "display_name": "Python 3 (ipykernel)",
   "language": "python",
   "name": "python3"
  },
  "language_info": {
   "codemirror_mode": {
    "name": "ipython",
    "version": 3
   },
   "file_extension": ".py",
   "mimetype": "text/x-python",
   "name": "python",
   "nbconvert_exporter": "python",
   "pygments_lexer": "ipython3",
   "version": "3.11.4"
  }
 },
 "nbformat": 4,
 "nbformat_minor": 5
}
